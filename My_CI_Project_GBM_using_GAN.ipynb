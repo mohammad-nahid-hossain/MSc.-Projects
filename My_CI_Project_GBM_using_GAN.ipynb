{
  "nbformat": 4,
  "nbformat_minor": 0,
  "metadata": {
    "colab": {
      "name": "My_CI_Project_GBM_using_GAN.ipynb",
      "provenance": [],
      "collapsed_sections": [],
      "authorship_tag": "ABX9TyPBgBhae7H/8DRkpsoUxpYu",
      "include_colab_link": true
    },
    "kernelspec": {
      "name": "python3",
      "display_name": "Python 3"
    },
    "accelerator": "GPU"
  },
  "cells": [
    {
      "cell_type": "markdown",
      "metadata": {
        "id": "view-in-github",
        "colab_type": "text"
      },
      "source": [
        "<a href=\"https://colab.research.google.com/github/mohammad-nahid-hossain/MSc.-Projects/blob/main/My_CI_Project_GBM_using_GAN.ipynb\" target=\"_parent\"><img src=\"https://colab.research.google.com/assets/colab-badge.svg\" alt=\"Open In Colab\"/></a>"
      ]
    },
    {
      "cell_type": "code",
      "metadata": {
        "id": "9pyKAT2ydyIx",
        "colab": {
          "base_uri": "https://localhost:8080/"
        },
        "outputId": "bb0b14f6-c69d-47e6-ba4a-04a0e0228823"
      },
      "source": [
        "from google.colab import drive\n",
        "drive.mount('/content/drive/')"
      ],
      "execution_count": null,
      "outputs": [
        {
          "output_type": "stream",
          "text": [
            "Mounted at /content/drive/\n"
          ],
          "name": "stdout"
        }
      ]
    },
    {
      "cell_type": "code",
      "metadata": {
        "id": "My0Euq482mI-",
        "colab": {
          "base_uri": "https://localhost:8080/"
        },
        "outputId": "9263ea2e-b3d5-4b4f-98c1-65a0a596fcc1"
      },
      "source": [
        "!ls \"/content/drive/My Drive/\""
      ],
      "execution_count": null,
      "outputs": [
        {
          "output_type": "stream",
          "text": [
            " 2014_Bodily_Maps_of_Emotions.mat\n",
            "'2019110211_Hossain Mohammad Nahid.gdoc'\n",
            " Books\n",
            "'Books(islamic)'\n",
            "'Bsc Thesis'\n",
            " CERTIFICATES\n",
            "'Colab Notebooks'\n",
            " Coursera\n",
            " CV\n",
            "'Data Acquisition for research work'\n",
            " DeepLearningBook.pdf\n",
            "'Dream forest tour'\n",
            "'Getting started.pdf'\n",
            "'GME transaction'\n",
            " Hmmmmm.gsheet\n",
            "'How to install cuda 10.1 in Ubuntu 18.04.zip'\n",
            " IMG_4717.JPG\n",
            " IMG_4719.JPG\n",
            " lecture_1.pdf\n",
            " lecture_2.pdf\n",
            " lecture_3.pdf\n",
            " lecture_4.pdf\n",
            " Msc\n",
            " Neural-Network-based-finger-counting-technique.pdf\n",
            "'New Doc 2019-09-03 20.05.57.jpg'\n",
            " Paper\n",
            "'PhD Application'\n",
            "'PhD Application Pack'\n",
            "'Planning Document.docx'\n",
            "'Planning Document.odt'\n",
            "'Planning Document.pdf'\n",
            "'Snow fall video'\n",
            "'Untitled Diagram.drawio'\n"
          ],
          "name": "stdout"
        }
      ]
    },
    {
      "cell_type": "code",
      "metadata": {
        "id": "zJ1687E-Wxic"
      },
      "source": [
        "# importing required libraries\n",
        "import pandas as pd\n",
        "from sklearn.ensemble import GradientBoostingClassifier\n",
        "from sklearn.metrics import accuracy_score"
      ],
      "execution_count": null,
      "outputs": []
    },
    {
      "cell_type": "code",
      "metadata": {
        "id": "d7ifI7_r7vq_"
      },
      "source": [
        "# read the train and test dataset\n",
        "train_data = pd.read_csv('/content/drive/My Drive/Msc/Msc Thesis/Coding Documents/WFS/GMB/using GAN/CI_detection_train.csv')\n",
        "test_data = pd.read_csv('/content/drive/My Drive/Msc/Msc Thesis/Coding Documents/WFS/GMB/using GAN/CI_detection_test.csv')\n",
        "data = pd.read_csv('/content/drive/My Drive/Msc/Msc Thesis/Coding Documents/WFS/GMB/using GAN/CI_detection.csv')"
      ],
      "execution_count": null,
      "outputs": []
    },
    {
      "cell_type": "code",
      "metadata": {
        "id": "Z24JNzNc-eMo"
      },
      "source": [
        "dd = data.describe()"
      ],
      "execution_count": null,
      "outputs": []
    },
    {
      "cell_type": "code",
      "metadata": {
        "colab": {
          "base_uri": "https://localhost:8080/",
          "height": 288
        },
        "id": "1kxSsDUq-kmJ",
        "outputId": "496bc83c-d572-4965-b0a1-ece2de6b7e33"
      },
      "source": [
        "dd"
      ],
      "execution_count": null,
      "outputs": [
        {
          "output_type": "execute_result",
          "data": {
            "text/html": [
              "<div>\n",
              "<style scoped>\n",
              "    .dataframe tbody tr th:only-of-type {\n",
              "        vertical-align: middle;\n",
              "    }\n",
              "\n",
              "    .dataframe tbody tr th {\n",
              "        vertical-align: top;\n",
              "    }\n",
              "\n",
              "    .dataframe thead th {\n",
              "        text-align: right;\n",
              "    }\n",
              "</style>\n",
              "<table border=\"1\" class=\"dataframe\">\n",
              "  <thead>\n",
              "    <tr style=\"text-align: right;\">\n",
              "      <th></th>\n",
              "      <th>TotalTime</th>\n",
              "      <th>EC</th>\n",
              "      <th>AVG</th>\n",
              "      <th>Energy</th>\n",
              "      <th>Sleep</th>\n",
              "      <th>Step</th>\n",
              "      <th>HeartData</th>\n",
              "      <th>Group</th>\n",
              "    </tr>\n",
              "  </thead>\n",
              "  <tbody>\n",
              "    <tr>\n",
              "      <th>count</th>\n",
              "      <td>6574.000000</td>\n",
              "      <td>6574.000000</td>\n",
              "      <td>6574.000000</td>\n",
              "      <td>6574.000000</td>\n",
              "      <td>6574.000000</td>\n",
              "      <td>6574.000000</td>\n",
              "      <td>6574.000000</td>\n",
              "      <td>6574.000000</td>\n",
              "    </tr>\n",
              "    <tr>\n",
              "      <th>mean</th>\n",
              "      <td>11.407362</td>\n",
              "      <td>1.503955</td>\n",
              "      <td>1.654252</td>\n",
              "      <td>463.958295</td>\n",
              "      <td>6.887435</td>\n",
              "      <td>758.623973</td>\n",
              "      <td>75.916489</td>\n",
              "      <td>0.527533</td>\n",
              "    </tr>\n",
              "    <tr>\n",
              "      <th>std</th>\n",
              "      <td>3.376634</td>\n",
              "      <td>1.122729</td>\n",
              "      <td>0.536294</td>\n",
              "      <td>231.004372</td>\n",
              "      <td>1.713670</td>\n",
              "      <td>127.957936</td>\n",
              "      <td>11.196495</td>\n",
              "      <td>0.889149</td>\n",
              "    </tr>\n",
              "    <tr>\n",
              "      <th>min</th>\n",
              "      <td>4.000000</td>\n",
              "      <td>0.000000</td>\n",
              "      <td>0.500000</td>\n",
              "      <td>173.333333</td>\n",
              "      <td>3.000000</td>\n",
              "      <td>520.000000</td>\n",
              "      <td>52.000000</td>\n",
              "      <td>0.000000</td>\n",
              "    </tr>\n",
              "    <tr>\n",
              "      <th>25%</th>\n",
              "      <td>9.000000</td>\n",
              "      <td>1.000000</td>\n",
              "      <td>1.250000</td>\n",
              "      <td>277.333333</td>\n",
              "      <td>6.000000</td>\n",
              "      <td>660.000000</td>\n",
              "      <td>67.000000</td>\n",
              "      <td>0.000000</td>\n",
              "    </tr>\n",
              "    <tr>\n",
              "      <th>50%</th>\n",
              "      <td>11.000000</td>\n",
              "      <td>1.000000</td>\n",
              "      <td>1.571429</td>\n",
              "      <td>379.500000</td>\n",
              "      <td>7.000000</td>\n",
              "      <td>756.000000</td>\n",
              "      <td>76.000000</td>\n",
              "      <td>0.000000</td>\n",
              "    </tr>\n",
              "    <tr>\n",
              "      <th>75%</th>\n",
              "      <td>14.000000</td>\n",
              "      <td>3.000000</td>\n",
              "      <td>2.000000</td>\n",
              "      <td>660.000000</td>\n",
              "      <td>8.000000</td>\n",
              "      <td>840.000000</td>\n",
              "      <td>84.000000</td>\n",
              "      <td>1.000000</td>\n",
              "    </tr>\n",
              "    <tr>\n",
              "      <th>max</th>\n",
              "      <td>19.000000</td>\n",
              "      <td>3.000000</td>\n",
              "      <td>3.166667</td>\n",
              "      <td>1050.000000</td>\n",
              "      <td>9.000000</td>\n",
              "      <td>1050.000000</td>\n",
              "      <td>100.000000</td>\n",
              "      <td>3.000000</td>\n",
              "    </tr>\n",
              "  </tbody>\n",
              "</table>\n",
              "</div>"
            ],
            "text/plain": [
              "         TotalTime           EC  ...    HeartData        Group\n",
              "count  6574.000000  6574.000000  ...  6574.000000  6574.000000\n",
              "mean     11.407362     1.503955  ...    75.916489     0.527533\n",
              "std       3.376634     1.122729  ...    11.196495     0.889149\n",
              "min       4.000000     0.000000  ...    52.000000     0.000000\n",
              "25%       9.000000     1.000000  ...    67.000000     0.000000\n",
              "50%      11.000000     1.000000  ...    76.000000     0.000000\n",
              "75%      14.000000     3.000000  ...    84.000000     1.000000\n",
              "max      19.000000     3.000000  ...   100.000000     3.000000\n",
              "\n",
              "[8 rows x 8 columns]"
            ]
          },
          "metadata": {
            "tags": []
          },
          "execution_count": 6
        }
      ]
    },
    {
      "cell_type": "code",
      "metadata": {
        "id": "4JXyXZeH-v9-"
      },
      "source": [
        "from scipy.io import savemat\n",
        "savemat('/content/drive/My Drive/Msc/Msc Thesis/Coding Documents/WFS/GMB/using GAN/CI_GAN.mat', {'CI_GAN': dd })"
      ],
      "execution_count": null,
      "outputs": []
    },
    {
      "cell_type": "code",
      "metadata": {
        "colab": {
          "base_uri": "https://localhost:8080/"
        },
        "id": "gFfwIEDrXgZA",
        "outputId": "2648772f-4bb7-41e2-9bc5-3a781bf21df1"
      },
      "source": [
        "# shape of the dataset\n",
        "print('Shape of training data :',train_data.shape)\n",
        "print('Shape of testing data :',test_data.shape)"
      ],
      "execution_count": null,
      "outputs": [
        {
          "output_type": "stream",
          "text": [
            "Shape of training data : (4798, 8)\n",
            "Shape of testing data : (1776, 8)\n"
          ],
          "name": "stdout"
        }
      ]
    },
    {
      "cell_type": "code",
      "metadata": {
        "id": "AElZ_MjrXlZa"
      },
      "source": [
        "# seperate the independent and target variable on training data\n",
        "X_train = train_data.drop(columns=['Group'],axis=1)\n",
        "y_train = train_data['Group']"
      ],
      "execution_count": null,
      "outputs": []
    },
    {
      "cell_type": "code",
      "metadata": {
        "id": "5HTFjXqpXxRI"
      },
      "source": [
        "# seperate the independent and target variable on testing data\n",
        "X_test = test_data.drop(columns=['Group'],axis=1)\n",
        "y_test = test_data['Group']"
      ],
      "execution_count": null,
      "outputs": []
    },
    {
      "cell_type": "code",
      "metadata": {
        "id": "XB0u6QFHX8oG"
      },
      "source": [
        "#Create the object of the GradientBoosting Classifier model\n",
        "#You can also add other parameters and test your code here\n",
        "#Some parameters are : learning_rate, n_estimators\n",
        "#Documentation of sklearn GradientBoosting Classifier: \n",
        "\n",
        "#https://scikit-learn.org/stable/modules/generated/sklearn.ensemble.GradientBoostingClassifier.html\n",
        "\n",
        "model = GradientBoostingClassifier(n_estimators=100,max_depth=5)"
      ],
      "execution_count": null,
      "outputs": []
    },
    {
      "cell_type": "code",
      "metadata": {
        "colab": {
          "base_uri": "https://localhost:8080/"
        },
        "id": "_bMrgtVXYFnM",
        "outputId": "3bec1101-0881-42f8-ed1c-6e92a25db05b"
      },
      "source": [
        "# fit the model with the training data\n",
        "model.fit(X_train,y_train)"
      ],
      "execution_count": null,
      "outputs": [
        {
          "output_type": "execute_result",
          "data": {
            "text/plain": [
              "GradientBoostingClassifier(ccp_alpha=0.0, criterion='friedman_mse', init=None,\n",
              "                           learning_rate=0.1, loss='deviance', max_depth=5,\n",
              "                           max_features=None, max_leaf_nodes=None,\n",
              "                           min_impurity_decrease=0.0, min_impurity_split=None,\n",
              "                           min_samples_leaf=1, min_samples_split=2,\n",
              "                           min_weight_fraction_leaf=0.0, n_estimators=100,\n",
              "                           n_iter_no_change=None, presort='deprecated',\n",
              "                           random_state=None, subsample=1.0, tol=0.0001,\n",
              "                           validation_fraction=0.1, verbose=0,\n",
              "                           warm_start=False)"
            ]
          },
          "metadata": {
            "tags": []
          },
          "execution_count": 9
        }
      ]
    },
    {
      "cell_type": "code",
      "metadata": {
        "colab": {
          "base_uri": "https://localhost:8080/"
        },
        "id": "ci-F6cWlYJzV",
        "outputId": "ff47b36f-bd69-4303-a6e8-c75d677d71da"
      },
      "source": [
        "# predict the target on the train dataset\n",
        "predict_train = model.predict(X_train)\n",
        "print('\\nTarget on train data',predict_train) "
      ],
      "execution_count": null,
      "outputs": [
        {
          "output_type": "stream",
          "text": [
            "\n",
            "Target on train data [3 3 3 ... 0 0 0]\n"
          ],
          "name": "stdout"
        }
      ]
    },
    {
      "cell_type": "code",
      "metadata": {
        "colab": {
          "base_uri": "https://localhost:8080/"
        },
        "id": "dWfgUzb2YR5X",
        "outputId": "e4323ef1-c337-4366-8860-43e494cfb008"
      },
      "source": [
        "# Accuray Score on train dataset\n",
        "accuracy_train = accuracy_score(y_train,predict_train)\n",
        "print('\\naccuracy_score on train dataset : ', accuracy_train)"
      ],
      "execution_count": null,
      "outputs": [
        {
          "output_type": "stream",
          "text": [
            "\n",
            "accuracy_score on train dataset :  0.9339308045018758\n"
          ],
          "name": "stdout"
        }
      ]
    },
    {
      "cell_type": "code",
      "metadata": {
        "colab": {
          "base_uri": "https://localhost:8080/"
        },
        "id": "-mq-rtQcYWzf",
        "outputId": "6d3d7e9b-b065-4ba2-f24d-ad7ec737fa24"
      },
      "source": [
        "# predict the target on the test dataset\n",
        "predict_test = model.predict(X_test)\n",
        "print('\\nTarget on test data',predict_test) "
      ],
      "execution_count": null,
      "outputs": [
        {
          "output_type": "stream",
          "text": [
            "\n",
            "Target on test data [3 3 2 ... 0 0 0]\n"
          ],
          "name": "stdout"
        }
      ]
    },
    {
      "cell_type": "code",
      "metadata": {
        "colab": {
          "base_uri": "https://localhost:8080/"
        },
        "id": "hpeqxF6jYap7",
        "outputId": "eb6a6715-d22c-4b48-8cc5-36720e828619"
      },
      "source": [
        "# Accuracy Score on test dataset\n",
        "accuracy_test = accuracy_score(y_test,predict_test)\n",
        "print('\\naccuracy_score on test dataset : ', accuracy_test)"
      ],
      "execution_count": null,
      "outputs": [
        {
          "output_type": "stream",
          "text": [
            "\n",
            "accuracy_score on test dataset :  0.8063063063063063\n"
          ],
          "name": "stdout"
        }
      ]
    },
    {
      "cell_type": "code",
      "metadata": {
        "colab": {
          "base_uri": "https://localhost:8080/"
        },
        "id": "xq6zmhAeN7KH",
        "outputId": "b837700a-6f65-4030-ac51-bf04b9440a3b"
      },
      "source": [
        "import scipy.io\n",
        "import sklearn.metrics as metrics\n",
        "from sklearn.metrics import roc_curve, auc\n",
        "# calculate the fpr and tpr for all thresholds of the classification\n",
        "preds = model.predict_proba(X_test)[:,1]\n",
        "fpr, tpr, threshold = metrics.roc_curve(y_test, preds, pos_label=3)\n",
        "roc_auc = metrics.auc(fpr, tpr)\n",
        "print('Class 3 fpr: ', fpr)\n",
        "print('\\nClass 3 tpr: ', tpr)\n",
        "print('\\nClass 3 roc_auc: ', roc_auc)\n",
        "\n",
        "\n",
        "fpr_3 = fpr\n",
        "tpr_3 = tpr"
      ],
      "execution_count": null,
      "outputs": [
        {
          "output_type": "stream",
          "text": [
            "Class 3 fpr:  [0.00000000e+00 5.96658711e-04 3.63961814e-02 3.63961814e-02\n",
            " 1.02625298e-01 1.02625298e-01 1.21121718e-01 1.21121718e-01\n",
            " 1.25298329e-01 1.25298329e-01 1.26491647e-01 1.26491647e-01\n",
            " 1.40214797e-01 1.40214797e-01 1.49164678e-01 1.49164678e-01\n",
            " 1.53341289e-01 1.53341289e-01 1.58114558e-01 1.58114558e-01\n",
            " 1.59904535e-01 1.59904535e-01 1.60501193e-01 1.60501193e-01\n",
            " 1.64677804e-01 1.64677804e-01 1.66467780e-01 1.66467780e-01\n",
            " 1.76014320e-01 1.76014320e-01 1.77804296e-01 1.77804296e-01\n",
            " 1.80190931e-01 1.80190931e-01 1.84964200e-01 1.84964200e-01\n",
            " 1.94510740e-01 1.94510740e-01 1.96300716e-01 1.96300716e-01\n",
            " 2.01670644e-01 2.01670644e-01 2.02267303e-01 2.02267303e-01\n",
            " 2.03460621e-01 2.03460621e-01 2.05250597e-01 2.05250597e-01\n",
            " 2.10023866e-01 2.10023866e-01 2.13007160e-01 2.13007160e-01\n",
            " 2.13603819e-01 2.13603819e-01 2.14200477e-01 2.14200477e-01\n",
            " 2.26133652e-01 2.26133652e-01 2.26730310e-01 2.26730310e-01\n",
            " 2.30310263e-01 2.30310263e-01 2.31503580e-01 2.31503580e-01\n",
            " 2.35083532e-01 2.35083532e-01 2.36276850e-01 2.36276850e-01\n",
            " 2.39260143e-01 2.39260143e-01 2.39856802e-01 2.39856802e-01\n",
            " 2.44033413e-01 2.44033413e-01 2.47613365e-01 2.47613365e-01\n",
            " 2.52386635e-01 2.52386635e-01 2.60143198e-01 2.60143198e-01\n",
            " 2.63126492e-01 2.63126492e-01 2.71479714e-01 2.71479714e-01\n",
            " 2.92959427e-01 2.92959427e-01 3.06682578e-01 3.06682578e-01\n",
            " 3.07279236e-01 3.07279236e-01 3.16825776e-01 3.16825776e-01\n",
            " 3.17422434e-01 3.17422434e-01 3.21002387e-01 3.21002387e-01\n",
            " 3.21599045e-01 3.21599045e-01 3.22792363e-01 3.22792363e-01\n",
            " 3.28758950e-01 3.28758950e-01 3.37708831e-01 3.37708831e-01\n",
            " 3.39498807e-01 3.39498807e-01 3.55608592e-01 3.55608592e-01\n",
            " 3.78878282e-01 3.78878282e-01 3.80071599e-01 3.80071599e-01\n",
            " 3.81861575e-01 3.81861575e-01 3.90214797e-01 3.90214797e-01\n",
            " 3.99761337e-01 3.99761337e-01 4.11097852e-01 4.11097852e-01\n",
            " 4.22434368e-01 4.22434368e-01 4.26610979e-01 4.26610979e-01\n",
            " 4.27207637e-01 4.27207637e-01 4.27804296e-01 4.27804296e-01\n",
            " 4.29594272e-01 4.29594272e-01 4.34367542e-01 4.34367542e-01\n",
            " 4.40334129e-01 4.40334129e-01 4.78520286e-01 4.78520286e-01\n",
            " 5.02386635e-01 5.02386635e-01 5.35202864e-01 5.35202864e-01\n",
            " 5.39379475e-01 5.39379475e-01 5.56682578e-01 5.56682578e-01\n",
            " 5.90095465e-01 5.90095465e-01 6.05608592e-01 6.05608592e-01\n",
            " 6.09188544e-01 6.09188544e-01 6.21718377e-01 6.21718377e-01\n",
            " 6.43794749e-01 6.43794749e-01 6.77804296e-01 6.77804296e-01\n",
            " 6.85560859e-01 6.85560859e-01 7.19570406e-01 7.19570406e-01\n",
            " 7.44033413e-01 7.44033413e-01 7.60143198e-01 7.60143198e-01\n",
            " 7.68496420e-01 7.68496420e-01 7.76252983e-01 7.76252983e-01\n",
            " 7.88186158e-01 7.89379475e-01 8.41885442e-01 8.41885442e-01\n",
            " 8.74105012e-01 8.74105012e-01 8.86038186e-01 8.86038186e-01\n",
            " 9.12291169e-01 9.12291169e-01 9.23031026e-01 9.23031026e-01\n",
            " 9.49284010e-01 9.49284010e-01 9.53460621e-01 9.53460621e-01\n",
            " 9.93436754e-01 9.93436754e-01 1.00000000e+00]\n",
            "\n",
            "Class 3 tpr:  [0.   0.   0.   0.01 0.01 0.02 0.02 0.03 0.03 0.04 0.04 0.05 0.05 0.06\n",
            " 0.06 0.07 0.07 0.09 0.09 0.1  0.1  0.11 0.11 0.12 0.12 0.13 0.13 0.14\n",
            " 0.14 0.15 0.15 0.17 0.17 0.18 0.18 0.19 0.19 0.2  0.2  0.22 0.22 0.24\n",
            " 0.24 0.25 0.25 0.26 0.26 0.27 0.27 0.28 0.28 0.29 0.29 0.3  0.3  0.31\n",
            " 0.31 0.32 0.32 0.33 0.33 0.34 0.34 0.35 0.35 0.36 0.36 0.37 0.37 0.38\n",
            " 0.38 0.39 0.39 0.41 0.41 0.42 0.42 0.43 0.43 0.44 0.44 0.45 0.45 0.46\n",
            " 0.46 0.47 0.47 0.49 0.49 0.5  0.5  0.51 0.51 0.53 0.53 0.54 0.54 0.55\n",
            " 0.55 0.56 0.56 0.57 0.57 0.58 0.58 0.59 0.59 0.61 0.61 0.62 0.62 0.63\n",
            " 0.63 0.64 0.64 0.65 0.65 0.66 0.66 0.67 0.67 0.68 0.68 0.69 0.69 0.7\n",
            " 0.7  0.71 0.71 0.72 0.72 0.73 0.73 0.74 0.74 0.75 0.75 0.76 0.76 0.77\n",
            " 0.77 0.78 0.78 0.79 0.79 0.8  0.8  0.81 0.81 0.82 0.82 0.83 0.83 0.85\n",
            " 0.85 0.86 0.86 0.87 0.87 0.88 0.88 0.89 0.89 0.9  0.9  0.91 0.91 0.92\n",
            " 0.92 0.92 0.92 0.93 0.93 0.94 0.94 0.95 0.95 0.96 0.96 0.97 0.97 0.98\n",
            " 0.98 0.99 0.99 1.   1.  ]\n",
            "\n",
            "Class 3 roc_auc:  0.6209546539379476\n"
          ],
          "name": "stdout"
        }
      ]
    },
    {
      "cell_type": "code",
      "metadata": {
        "colab": {
          "base_uri": "https://localhost:8080/",
          "height": 639
        },
        "id": "g0nuMarK8QFX",
        "outputId": "756d79ed-167f-4a63-eae5-e700428924fb"
      },
      "source": [
        "import matplotlib.pyplot as plt\n",
        "plt.figure(figsize=(10,10))\n",
        "plt.title('Receiver Operating Characteristic')\n",
        "plt.plot(fpr,tpr, color='red',label = 'AUC = %0.2f' % roc_auc)\n",
        "plt.legend(loc = 'lower right')\n",
        "plt.plot([0, 1], [0, 1],linestyle='--')\n",
        "plt.axis('tight')\n",
        "plt.ylabel('True Positive Rate')\n",
        "plt.xlabel('False Positive Rate')"
      ],
      "execution_count": null,
      "outputs": [
        {
          "output_type": "execute_result",
          "data": {
            "text/plain": [
              "Text(0.5, 0, 'False Positive Rate')"
            ]
          },
          "metadata": {
            "tags": []
          },
          "execution_count": 16
        },
        {
          "output_type": "display_data",
          "data": {
            "image/png": "[encoded data removed]",
            "text/plain": [
              "<Figure size 720x720 with 1 Axes>"
            ]
          },
          "metadata": {
            "tags": [],
            "needs_background": "light"
          }
        }
      ]
    },
    {
      "cell_type": "code",
      "metadata": {
        "colab": {
          "base_uri": "https://localhost:8080/"
        },
        "id": "6_rEQIgCCBfP",
        "outputId": "bbfc1bad-3076-4691-8f44-cb54cbb0f58f"
      },
      "source": [
        "y_train.shape"
      ],
      "execution_count": null,
      "outputs": [
        {
          "output_type": "execute_result",
          "data": {
            "text/plain": [
              "(4798,)"
            ]
          },
          "metadata": {
            "tags": []
          },
          "execution_count": 17
        }
      ]
    },
    {
      "cell_type": "code",
      "metadata": {
        "colab": {
          "base_uri": "https://localhost:8080/"
        },
        "id": "vndIW409COPm",
        "outputId": "9be191c7-dfd7-47e4-e601-1319a0a57462"
      },
      "source": [
        "y_test.shape"
      ],
      "execution_count": null,
      "outputs": [
        {
          "output_type": "execute_result",
          "data": {
            "text/plain": [
              "(1776,)"
            ]
          },
          "metadata": {
            "tags": []
          },
          "execution_count": 18
        }
      ]
    },
    {
      "cell_type": "code",
      "metadata": {
        "colab": {
          "base_uri": "https://localhost:8080/"
        },
        "id": "OdCf_iAnCQuw",
        "outputId": "d09ef511-4de2-4a9e-8c1e-dd8cfa05e25e"
      },
      "source": [
        "y = pd.concat([y_train, y_test])\n",
        "y.shape"
      ],
      "execution_count": null,
      "outputs": [
        {
          "output_type": "execute_result",
          "data": {
            "text/plain": [
              "(6574,)"
            ]
          },
          "metadata": {
            "tags": []
          },
          "execution_count": 19
        }
      ]
    },
    {
      "cell_type": "code",
      "metadata": {
        "id": "ZpX-Cl3NFYvn"
      },
      "source": [
        "# fit the model with the training data\n",
        "y_score = model.fit(X_train,y_train)"
      ],
      "execution_count": null,
      "outputs": []
    },
    {
      "cell_type": "code",
      "metadata": {
        "colab": {
          "base_uri": "https://localhost:8080/"
        },
        "id": "qfCBqGdeFhKJ",
        "outputId": "9f326260-04d7-4afe-c024-93c9d0b3f755"
      },
      "source": [
        "import numpy as np\n",
        "from sklearn.preprocessing import label_binarize\n",
        "from sklearn.multiclass import OneVsRestClassifier\n",
        "# Binarize the output\n",
        "y = label_binarize(y, classes=[0, 1, 2, 3])\n",
        "n_classes = y.shape[1]\n",
        "# Compute ROC curve and ROC area for each class\n",
        "fpr = dict()\n",
        "tpr = dict()\n",
        "roc_auc = dict()\n",
        "for i in range(n_classes):\n",
        "    fpr[i], tpr[i], _ = roc_curve(y_test, preds, pos_label= n_classes)\n",
        "    roc_auc[i] = auc(fpr[i], tpr[i])"
      ],
      "execution_count": null,
      "outputs": [
        {
          "output_type": "stream",
          "text": [
            "/usr/local/lib/python3.7/dist-packages/sklearn/metrics/_ranking.py:808: UndefinedMetricWarning: No positive samples in y_true, true positive value should be meaningless\n",
            "  UndefinedMetricWarning)\n"
          ],
          "name": "stderr"
        }
      ]
    },
    {
      "cell_type": "code",
      "metadata": {
        "colab": {
          "base_uri": "https://localhost:8080/",
          "height": 621
        },
        "id": "Ktk5L3jQIjzb",
        "outputId": "eb950b81-c83b-4b17-a074-cd1d1eaefcda"
      },
      "source": [
        "plt.figure(figsize=(10,10))\n",
        "lw = 2\n",
        "plt.plot(fpr[2], tpr[2], color='darkorange',\n",
        "         lw=lw, label='ROC curve (area = %0.2f)' % roc_auc[2])\n",
        "plt.plot([0, 1], [0, 1], color='navy', lw=lw, linestyle='--')\n",
        "plt.xlim([0.0, 1.0])\n",
        "plt.ylim([0.0, 1.05])\n",
        "plt.xlabel('False Positive Rate')\n",
        "plt.ylabel('True Positive Rate')\n",
        "plt.title('Receiver operating characteristic example')\n",
        "plt.legend(loc=\"lower right\")\n",
        "plt.show()"
      ],
      "execution_count": null,
      "outputs": [
        {
          "output_type": "display_data",
          "data": {
            "image/png": "[encoded data removed]",
            "text/plain": [
              "<Figure size 720x720 with 1 Axes>"
            ]
          },
          "metadata": {
            "tags": [],
            "needs_background": "light"
          }
        }
      ]
    },
    {
      "cell_type": "code",
      "metadata": {
        "colab": {
          "base_uri": "https://localhost:8080/",
          "height": 135
        },
        "id": "tDq1u4lp76P8",
        "outputId": "050244f4-deeb-4e8f-d2ca-f5a22e0444f6"
      },
      "source": [
        "import numpy as np\n",
        "from sklearn.preprocessing import label_binarize\n",
        "from sklearn.multiclass import OneVsRestClassifier\n",
        "from scipy import numpy.interp\n",
        "from itertools import cycle\n",
        "# Binarize the output\n",
        "y = label_binarize(y, classes=[0, 1, 2, 3])\n",
        "n_classes = y.shape[1]\n",
        "# First aggregate all false positive rates\n",
        "all_fpr = np.unique(np.concatenate([fpr[i] for i in range(n_classes)]))\n",
        "\n",
        "# Then interpolate all ROC curves at this points\n",
        "mean_tpr = np.zeros_like(all_fpr)\n",
        "for i in range(n_classes):\n",
        "    mean_tpr += interp(all_fpr, fpr[i], tpr[i])\n",
        "\n",
        "# Finally average it and compute AUC\n",
        "mean_tpr /= n_classes\n",
        "\n",
        "fpr[\"macro\"] = all_fpr\n",
        "tpr[\"macro\"] = mean_tpr\n",
        "roc_auc[\"macro\"] = auc(fpr[\"macro\"], tpr[\"macro\"])\n",
        "\n",
        "# Plot all ROC curves\n",
        "plt.figure(figsize=(10,10))\n",
        "#plt.plot(fpr[\"micro\"], tpr[\"micro\"],\n",
        " #        label='micro-average ROC curve (area = {0:0.2f})'\n",
        "  #             ''.format(roc_auc[\"micro\"]),\n",
        "   #       color='deeppink', linestyle=':', linewidth=4)\n",
        "\n",
        "plt.plot(fpr[\"macro\"], tpr[\"macro\"],\n",
        "         label='macro-average ROC curve (area = {0:0.2f})'\n",
        "               ''.format(roc_auc[\"macro\"]),\n",
        "         color='navy', linestyle=':', linewidth=4)\n",
        "\n",
        "colors = cycle(['red', 'blue', 'yellow', 'green'])\n",
        "for i, color in zip(range(n_classes), colors):\n",
        "    plt.plot(fpr[i], tpr[i], color=color, lw=lw,\n",
        "             label='ROC curve of class {0} (area = {1:0.2f})'\n",
        "             ''.format(i, roc_auc[i]))"
      ],
      "execution_count": null,
      "outputs": [
        {
          "output_type": "error",
          "ename": "SyntaxError",
          "evalue": "ignored",
          "traceback": [
            "\u001b[0;36m  File \u001b[0;32m\"<ipython-input-23-8b85b65ba0b7>\"\u001b[0;36m, line \u001b[0;32m4\u001b[0m\n\u001b[0;31m    from scipy import numpy.interp\u001b[0m\n\u001b[0m                           ^\u001b[0m\n\u001b[0;31mSyntaxError\u001b[0m\u001b[0;31m:\u001b[0m invalid syntax\n"
          ]
        }
      ]
    },
    {
      "cell_type": "code",
      "metadata": {
        "id": "J9l5NDg_lCLR"
      },
      "source": [
        "import sklearn.metrics as metrics\n",
        "from sklearn.metrics import roc_curve, auc\n",
        "# calculate the fpr and tpr for all thresholds of the classification\n",
        "#probs = model.predict_proba(X_test)\n",
        "#preds = probs[:,1]\n",
        "#predict_test = model.predict(X_test)\n",
        "preds = model.predict_proba(X_test)[:,1]\n",
        "#fpr, tpr, threshold = metrics.roc_curve(y_test, preds)\n",
        "fpr, tpr, threshold = metrics.roc_curve(y_test, preds, pos_label=2)\n",
        "roc_auc = metrics.auc(fpr, tpr)\n",
        "roc_auc\n",
        "\n",
        "fpr_2 = fpr\n",
        "tpr_2 = tpr"
      ],
      "execution_count": null,
      "outputs": []
    },
    {
      "cell_type": "code",
      "metadata": {
        "colab": {
          "base_uri": "https://localhost:8080/",
          "height": 639
        },
        "id": "WpcPd18xlIwh",
        "outputId": "751e3e15-0c0a-4543-f342-a1bdf0546c8f"
      },
      "source": [
        "import matplotlib.pyplot as plt\n",
        "plt.figure(figsize=(10,10))\n",
        "plt.title('Receiver Operating Characteristic')\n",
        "plt.plot(fpr,tpr, color='blue',label = 'AUC = %0.2f' % roc_auc)\n",
        "plt.legend(loc = 'lower right')\n",
        "plt.plot([0, 1], [0, 1],linestyle='--')\n",
        "plt.axis('tight')\n",
        "plt.ylabel('True Positive Rate')\n",
        "plt.xlabel('False Positive Rate')"
      ],
      "execution_count": null,
      "outputs": [
        {
          "output_type": "execute_result",
          "data": {
            "text/plain": [
              "Text(0.5, 0, 'False Positive Rate')"
            ]
          },
          "metadata": {
            "tags": []
          },
          "execution_count": 25
        },
        {
          "output_type": "display_data",
          "data": {
            "image/png": "[encoded data removed]",
            "text/plain": [
              "<Figure size 720x720 with 1 Axes>"
            ]
          },
          "metadata": {
            "tags": [],
            "needs_background": "light"
          }
        }
      ]
    },
    {
      "cell_type": "code",
      "metadata": {
        "id": "EAEN9kkVo8n9"
      },
      "source": [
        "import sklearn.metrics as metrics\n",
        "from sklearn.metrics import roc_curve, auc\n",
        "# calculate the fpr and tpr for all thresholds of the classification\n",
        "#probs = model.predict_proba(X_test)\n",
        "#preds = probs[:,1]\n",
        "#predict_test = model.predict(X_test)\n",
        "preds = model.predict_proba(X_test)[:,1]\n",
        "#fpr, tpr, threshold = metrics.roc_curve(y_test, preds)\n",
        "fpr, tpr, threshold = metrics.roc_curve(y_test, preds, pos_label=1)\n",
        "roc_auc = metrics.auc(fpr, tpr)\n",
        "roc_auc\n",
        "\n",
        "fpr_1 = fpr\n",
        "tpr_1 = tpr"
      ],
      "execution_count": null,
      "outputs": []
    },
    {
      "cell_type": "code",
      "metadata": {
        "colab": {
          "base_uri": "https://localhost:8080/",
          "height": 639
        },
        "id": "qaTjoqDzo9Ac",
        "outputId": "eb3b4159-7270-40cc-e157-29a4ca5f3aee"
      },
      "source": [
        "import matplotlib.pyplot as plt\n",
        "plt.figure(figsize=(10,10))\n",
        "plt.title('Receiver Operating Characteristic')\n",
        "plt.plot(fpr,tpr, color='yellow',label = 'AUC = %0.2f' % roc_auc)\n",
        "plt.legend(loc = 'lower right')\n",
        "plt.plot([0, 1], [0, 1],linestyle='--')\n",
        "plt.axis('tight')\n",
        "plt.ylabel('True Positive Rate')\n",
        "plt.xlabel('False Positive Rate')"
      ],
      "execution_count": null,
      "outputs": [
        {
          "output_type": "execute_result",
          "data": {
            "text/plain": [
              "Text(0.5, 0, 'False Positive Rate')"
            ]
          },
          "metadata": {
            "tags": []
          },
          "execution_count": 27
        },
        {
          "output_type": "display_data",
          "data": {
            "image/png": "[encoded data removed]",
            "text/plain": [
              "<Figure size 720x720 with 1 Axes>"
            ]
          },
          "metadata": {
            "tags": [],
            "needs_background": "light"
          }
        }
      ]
    },
    {
      "cell_type": "code",
      "metadata": {
        "colab": {
          "base_uri": "https://localhost:8080/"
        },
        "id": "uzOBWgslo-AK",
        "outputId": "4e2946ef-98ac-452c-ad99-33a71602fb8b"
      },
      "source": [
        "import sklearn.metrics as metrics\n",
        "from sklearn.metrics import roc_curve, auc\n",
        "# calculate the fpr and tpr for all thresholds of the classification\n",
        "#probs = model.predict_proba(X_test)\n",
        "#preds = probs[:,1]\n",
        "#predict_test = model.predict(X_test)\n",
        "preds = model.predict_proba(X_test)[:,1]\n",
        "#fpr, tpr, threshold = metrics.roc_curve(y_test, preds)\n",
        "fpr, tpr, threshold = metrics.roc_curve(y_test, preds, pos_label=0)\n",
        "roc_auc = metrics.auc(fpr, tpr)\n",
        "roc_auc"
      ],
      "execution_count": null,
      "outputs": [
        {
          "output_type": "execute_result",
          "data": {
            "text/plain": [
              "0.18438150623539956"
            ]
          },
          "metadata": {
            "tags": []
          },
          "execution_count": 28
        }
      ]
    },
    {
      "cell_type": "code",
      "metadata": {
        "colab": {
          "base_uri": "https://localhost:8080/",
          "height": 639
        },
        "id": "ldVvjT1ho-Nu",
        "outputId": "6a4db8fe-e81c-4a1a-f57d-4dbf82bd09a0"
      },
      "source": [
        "import matplotlib.pyplot as plt\n",
        "plt.figure(figsize=(10,10))\n",
        "plt.title('Receiver Operating Characteristic')\n",
        "plt.plot(fpr,tpr, color='green',label = 'AUC = %0.2f' % roc_auc)\n",
        "plt.legend(loc = 'lower right')\n",
        "plt.plot([0, 1], [0, 1],linestyle='--')\n",
        "plt.axis('tight')\n",
        "plt.ylabel('True Positive Rate')\n",
        "plt.xlabel('False Positive Rate')"
      ],
      "execution_count": null,
      "outputs": [
        {
          "output_type": "execute_result",
          "data": {
            "text/plain": [
              "Text(0.5, 0, 'False Positive Rate')"
            ]
          },
          "metadata": {
            "tags": []
          },
          "execution_count": 29
        },
        {
          "output_type": "display_data",
          "data": {
            "image/png": "[encoded data removed]",
            "text/plain": [
              "<Figure size 720x720 with 1 Axes>"
            ]
          },
          "metadata": {
            "tags": [],
            "needs_background": "light"
          }
        }
      ]
    },
    {
      "cell_type": "code",
      "metadata": {
        "colab": {
          "base_uri": "https://localhost:8080/"
        },
        "id": "WpEvMItwmOqF",
        "outputId": "397a8c41-46b6-4666-e292-e001ff5b0a5a"
      },
      "source": [
        "from sklearn.metrics import confusion_matrix \n",
        "confusion_matrix=metrics.confusion_matrix(y_test,predict_test)\n",
        "print(\"Confusion Matrix: \",confusion_matrix)"
      ],
      "execution_count": null,
      "outputs": [
        {
          "output_type": "stream",
          "text": [
            "Confusion Matrix:  [[1142   12   10    7]\n",
            " [  78  237    4    4]\n",
            " [ 142   23    5   12]\n",
            " [  35   13    4   48]]\n"
          ],
          "name": "stdout"
        }
      ]
    },
    {
      "cell_type": "code",
      "metadata": {
        "colab": {
          "base_uri": "https://localhost:8080/"
        },
        "id": "nIa7vth3oT7m",
        "outputId": "0c177e02-62c9-40a1-8993-9395daa90e1b"
      },
      "source": [
        "from sklearn.metrics import classification_report\n",
        "print(\"Report : \", classification_report(y_test, predict_test)) "
      ],
      "execution_count": null,
      "outputs": [
        {
          "output_type": "stream",
          "text": [
            "Report :                precision    recall  f1-score   support\n",
            "\n",
            "           0       0.82      0.98      0.89      1171\n",
            "           1       0.83      0.73      0.78       323\n",
            "           2       0.22      0.03      0.05       182\n",
            "           3       0.68      0.48      0.56       100\n",
            "\n",
            "    accuracy                           0.81      1776\n",
            "   macro avg       0.64      0.55      0.57      1776\n",
            "weighted avg       0.75      0.81      0.76      1776\n",
            "\n"
          ],
          "name": "stdout"
        }
      ]
    },
    {
      "cell_type": "code",
      "metadata": {
        "id": "mdEIC5FWC1t1"
      },
      "source": [
        "from scipy.io import savemat\n",
        "savemat('/content/drive/My Drive/Msc/Msc Thesis/Coding Documents/WFS/GMB/roc_data.mat', {'fpr_1': fpr_1, 'tpr_1' : tpr_1,'fpr_2': fpr_2, 'tpr_2' : tpr_2,'fpr_3': fpr_3, 'tpr_3' : tpr_3})"
      ],
      "execution_count": null,
      "outputs": []
    }
  ]
}