{
  "nbformat": 4,
  "nbformat_minor": 0,
  "metadata": {
    "colab": {
      "name": "My_CI_Project_GMB.ipynb",
      "provenance": [],
      "collapsed_sections": [],
      "authorship_tag": "ABX9TyMWZvPxWQs22HFqDmhbHxFd",
      "include_colab_link": true
    },
    "kernelspec": {
      "name": "python3",
      "display_name": "Python 3"
    },
    "accelerator": "GPU"
  },
  "cells": [
    {
      "cell_type": "markdown",
      "metadata": {
        "id": "view-in-github",
        "colab_type": "text"
      },
      "source": [
        "<a href=\"https://colab.research.google.com/github/mohammad-nahid-hossain/MSc.-Projects/blob/main/My_CI_Project_GBM.ipynb\" target=\"_parent\"><img src=\"https://colab.research.google.com/assets/colab-badge.svg\" alt=\"Open In Colab\"/></a>"
      ]
    },
    {
      "cell_type": "code",
      "metadata": {
        "id": "9pyKAT2ydyIx",
        "colab": {
          "base_uri": "https://localhost:8080/"
        },
        "outputId": "ecf8b8de-ffd9-4454-f535-785a53c55548"
      },
      "source": [
        "from google.colab import drive\n",
        "drive.mount('/content/drive/')"
      ],
      "execution_count": null,
      "outputs": [
        {
          "output_type": "stream",
          "text": [
            "Mounted at /content/drive/\n"
          ],
          "name": "stdout"
        }
      ]
    },
    {
      "cell_type": "code",
      "metadata": {
        "id": "My0Euq482mI-",
        "colab": {
          "base_uri": "https://localhost:8080/"
        },
        "outputId": "8642d7d8-6ad2-4fcf-e8b6-cf1237d5ab77"
      },
      "source": [
        "!ls \"/content/drive/My Drive/\""
      ],
      "execution_count": null,
      "outputs": [
        {
          "output_type": "stream",
          "text": [
            " 2014_Bodily_Maps_of_Emotions.mat\n",
            "'2019110211_Hossain Mohammad Nahid.gdoc'\n",
            " Books\n",
            "'Books(islamic)'\n",
            "'Bsc Thesis'\n",
            " CERTIFICATES\n",
            "'Colab Notebooks'\n",
            " Coursera\n",
            " CV\n",
            "'Data Acquisition for research work'\n",
            " DeepLearningBook.pdf\n",
            "'Dream forest tour'\n",
            "'Getting started.pdf'\n",
            "'GME transaction'\n",
            " Hmmmmm.gsheet\n",
            "'How to install cuda 10.1 in Ubuntu 18.04.zip'\n",
            " IMG_4717.JPG\n",
            " IMG_4719.JPG\n",
            " lecture_1.pdf\n",
            " lecture_2.pdf\n",
            " lecture_3.pdf\n",
            " lecture_4.pdf\n",
            " Msc\n",
            " Neural-Network-based-finger-counting-technique.pdf\n",
            "'New Doc 2019-09-03 20.05.57.jpg'\n",
            " Paper\n",
            "'PhD Application'\n",
            "'PhD Application Pack'\n",
            "'Planning Document.docx'\n",
            "'Planning Document.odt'\n",
            "'Planning Document.pdf'\n",
            "'Snow fall video'\n",
            "'Untitled Diagram.drawio'\n"
          ],
          "name": "stdout"
        }
      ]
    },
    {
      "cell_type": "code",
      "metadata": {
        "id": "zJ1687E-Wxic"
      },
      "source": [
        "# importing required libraries\n",
        "import pandas as pd\n",
        "from sklearn.ensemble import GradientBoostingClassifier\n",
        "from sklearn.metrics import accuracy_score"
      ],
      "execution_count": null,
      "outputs": []
    },
    {
      "cell_type": "code",
      "metadata": {
        "id": "d7ifI7_r7vq_"
      },
      "source": [
        "# read the train and test dataset\n",
        "train_data = pd.read_csv('/content/drive/My Drive/Msc/Msc Thesis/Coding Documents/WFS/GMB/CI_detection_train.csv')\n",
        "test_data = pd.read_csv('/content/drive/My Drive/Msc/Msc Thesis/Coding Documents/WFS/GMB/CI_detection_test.csv')\n",
        "data = pd.read_csv('/content/drive/My Drive/Msc/Msc Thesis/Coding Documents/WFS/GMB/CI_data.csv')"
      ],
      "execution_count": null,
      "outputs": []
    },
    {
      "cell_type": "code",
      "metadata": {
        "id": "FudAEEKhAZ3L"
      },
      "source": [
        "dd = data.describe()"
      ],
      "execution_count": null,
      "outputs": []
    },
    {
      "cell_type": "code",
      "metadata": {
        "colab": {
          "base_uri": "https://localhost:8080/",
          "height": 288
        },
        "id": "I-78eqrBAclk",
        "outputId": "7cc7fe15-a49e-4294-8aa6-b760ecca4f11"
      },
      "source": [
        "dd"
      ],
      "execution_count": null,
      "outputs": [
        {
          "output_type": "execute_result",
          "data": {
            "text/html": [
              "<div>\n",
              "<style scoped>\n",
              "    .dataframe tbody tr th:only-of-type {\n",
              "        vertical-align: middle;\n",
              "    }\n",
              "\n",
              "    .dataframe tbody tr th {\n",
              "        vertical-align: top;\n",
              "    }\n",
              "\n",
              "    .dataframe thead th {\n",
              "        text-align: right;\n",
              "    }\n",
              "</style>\n",
              "<table border=\"1\" class=\"dataframe\">\n",
              "  <thead>\n",
              "    <tr style=\"text-align: right;\">\n",
              "      <th></th>\n",
              "      <th>TotalTime</th>\n",
              "      <th>EC</th>\n",
              "      <th>AVG</th>\n",
              "      <th>Energy</th>\n",
              "      <th>Sleep</th>\n",
              "      <th>Step</th>\n",
              "      <th>HeartData</th>\n",
              "      <th>Group</th>\n",
              "    </tr>\n",
              "  </thead>\n",
              "  <tbody>\n",
              "    <tr>\n",
              "      <th>count</th>\n",
              "      <td>5475.000000</td>\n",
              "      <td>5475.000000</td>\n",
              "      <td>5475.000000</td>\n",
              "      <td>5475.000000</td>\n",
              "      <td>5475.000000</td>\n",
              "      <td>5475.000000</td>\n",
              "      <td>5475.000000</td>\n",
              "      <td>5475.000000</td>\n",
              "    </tr>\n",
              "    <tr>\n",
              "      <th>mean</th>\n",
              "      <td>11.345753</td>\n",
              "      <td>1.475616</td>\n",
              "      <td>1.646248</td>\n",
              "      <td>460.570594</td>\n",
              "      <td>6.978082</td>\n",
              "      <td>760.218082</td>\n",
              "      <td>75.810594</td>\n",
              "      <td>0.483836</td>\n",
              "    </tr>\n",
              "    <tr>\n",
              "      <th>std</th>\n",
              "      <td>3.248970</td>\n",
              "      <td>1.126255</td>\n",
              "      <td>0.510702</td>\n",
              "      <td>230.983790</td>\n",
              "      <td>1.656983</td>\n",
              "      <td>127.193071</td>\n",
              "      <td>10.668028</td>\n",
              "      <td>0.845729</td>\n",
              "    </tr>\n",
              "    <tr>\n",
              "      <th>min</th>\n",
              "      <td>4.000000</td>\n",
              "      <td>0.000000</td>\n",
              "      <td>0.500000</td>\n",
              "      <td>173.333333</td>\n",
              "      <td>3.000000</td>\n",
              "      <td>520.000000</td>\n",
              "      <td>52.000000</td>\n",
              "      <td>0.000000</td>\n",
              "    </tr>\n",
              "    <tr>\n",
              "      <th>25%</th>\n",
              "      <td>9.000000</td>\n",
              "      <td>0.000000</td>\n",
              "      <td>1.285714</td>\n",
              "      <td>275.333333</td>\n",
              "      <td>6.000000</td>\n",
              "      <td>660.000000</td>\n",
              "      <td>68.000000</td>\n",
              "      <td>0.000000</td>\n",
              "    </tr>\n",
              "    <tr>\n",
              "      <th>50%</th>\n",
              "      <td>11.000000</td>\n",
              "      <td>1.000000</td>\n",
              "      <td>1.571429</td>\n",
              "      <td>372.000000</td>\n",
              "      <td>7.000000</td>\n",
              "      <td>759.000000</td>\n",
              "      <td>76.000000</td>\n",
              "      <td>0.000000</td>\n",
              "    </tr>\n",
              "    <tr>\n",
              "      <th>75%</th>\n",
              "      <td>13.000000</td>\n",
              "      <td>2.000000</td>\n",
              "      <td>2.000000</td>\n",
              "      <td>660.000000</td>\n",
              "      <td>8.000000</td>\n",
              "      <td>845.000000</td>\n",
              "      <td>84.000000</td>\n",
              "      <td>1.000000</td>\n",
              "    </tr>\n",
              "    <tr>\n",
              "      <th>max</th>\n",
              "      <td>19.000000</td>\n",
              "      <td>3.000000</td>\n",
              "      <td>3.166667</td>\n",
              "      <td>1050.000000</td>\n",
              "      <td>9.000000</td>\n",
              "      <td>1050.000000</td>\n",
              "      <td>100.000000</td>\n",
              "      <td>3.000000</td>\n",
              "    </tr>\n",
              "  </tbody>\n",
              "</table>\n",
              "</div>"
            ],
            "text/plain": [
              "         TotalTime           EC  ...    HeartData        Group\n",
              "count  5475.000000  5475.000000  ...  5475.000000  5475.000000\n",
              "mean     11.345753     1.475616  ...    75.810594     0.483836\n",
              "std       3.248970     1.126255  ...    10.668028     0.845729\n",
              "min       4.000000     0.000000  ...    52.000000     0.000000\n",
              "25%       9.000000     0.000000  ...    68.000000     0.000000\n",
              "50%      11.000000     1.000000  ...    76.000000     0.000000\n",
              "75%      13.000000     2.000000  ...    84.000000     1.000000\n",
              "max      19.000000     3.000000  ...   100.000000     3.000000\n",
              "\n",
              "[8 rows x 8 columns]"
            ]
          },
          "metadata": {
            "tags": []
          },
          "execution_count": 6
        }
      ]
    },
    {
      "cell_type": "code",
      "metadata": {
        "id": "E9Uql6r2Ag8x"
      },
      "source": [
        "from scipy.io import savemat\n",
        "savemat('/content/drive/My Drive/Msc/Msc Thesis/Coding Documents/WFS/GMB/CI_data.mat', {'CI_data': dd })"
      ],
      "execution_count": null,
      "outputs": []
    },
    {
      "cell_type": "code",
      "metadata": {
        "colab": {
          "base_uri": "https://localhost:8080/"
        },
        "id": "gFfwIEDrXgZA",
        "outputId": "41616e10-b545-4fad-e164-5732f457c4cb"
      },
      "source": [
        "# shape of the dataset\n",
        "print('Shape of training data :',train_data.shape)\n",
        "print('Shape of testing data :',test_data.shape)"
      ],
      "execution_count": null,
      "outputs": [
        {
          "output_type": "stream",
          "text": [
            "Shape of training data : (3998, 8)\n",
            "Shape of testing data : (1476, 8)\n"
          ],
          "name": "stdout"
        }
      ]
    },
    {
      "cell_type": "code",
      "metadata": {
        "id": "AElZ_MjrXlZa"
      },
      "source": [
        "# seperate the independent and target variable on training data\n",
        "X_train = train_data.drop(columns=['Group'],axis=1)\n",
        "y_train = train_data['Group']"
      ],
      "execution_count": null,
      "outputs": []
    },
    {
      "cell_type": "code",
      "metadata": {
        "id": "5HTFjXqpXxRI"
      },
      "source": [
        "# seperate the independent and target variable on testing data\n",
        "X_test = test_data.drop(columns=['Group'],axis=1)\n",
        "y_test = test_data['Group']"
      ],
      "execution_count": null,
      "outputs": []
    },
    {
      "cell_type": "code",
      "metadata": {
        "id": "XB0u6QFHX8oG"
      },
      "source": [
        "#Create the object of the GradientBoosting Classifier model\n",
        "#You can also add other parameters and test your code here\n",
        "#Some parameters are : learning_rate, n_estimators\n",
        "#Documentation of sklearn GradientBoosting Classifier: \n",
        "\n",
        "#https://scikit-learn.org/stable/modules/generated/sklearn.ensemble.GradientBoostingClassifier.html\n",
        "\n",
        "model = GradientBoostingClassifier(n_estimators=32,max_depth=6)"
      ],
      "execution_count": null,
      "outputs": []
    },
    {
      "cell_type": "code",
      "metadata": {
        "colab": {
          "base_uri": "https://localhost:8080/"
        },
        "id": "_bMrgtVXYFnM",
        "outputId": "9b0ba35c-71da-41db-fc2f-dee099cb5e32"
      },
      "source": [
        "# fit the model with the training data\n",
        "model.fit(X_train,y_train)"
      ],
      "execution_count": null,
      "outputs": [
        {
          "output_type": "execute_result",
          "data": {
            "text/plain": [
              "GradientBoostingClassifier(ccp_alpha=0.0, criterion='friedman_mse', init=None,\n",
              "                           learning_rate=0.1, loss='deviance', max_depth=6,\n",
              "                           max_features=None, max_leaf_nodes=None,\n",
              "                           min_impurity_decrease=0.0, min_impurity_split=None,\n",
              "                           min_samples_leaf=1, min_samples_split=2,\n",
              "                           min_weight_fraction_leaf=0.0, n_estimators=32,\n",
              "                           n_iter_no_change=None, presort='deprecated',\n",
              "                           random_state=None, subsample=1.0, tol=0.0001,\n",
              "                           validation_fraction=0.1, verbose=0,\n",
              "                           warm_start=False)"
            ]
          },
          "metadata": {
            "tags": []
          },
          "execution_count": 38
        }
      ]
    },
    {
      "cell_type": "code",
      "metadata": {
        "colab": {
          "base_uri": "https://localhost:8080/"
        },
        "id": "ci-F6cWlYJzV",
        "outputId": "64fc1b7b-0564-42ac-bfe5-13c080bafe50"
      },
      "source": [
        "# predict the target on the train dataset\n",
        "predict_train = model.predict(X_train)\n",
        "print('\\nTarget on train data',predict_train) "
      ],
      "execution_count": null,
      "outputs": [
        {
          "output_type": "stream",
          "text": [
            "\n",
            "Target on train data [3 3 3 ... 0 0 0]\n"
          ],
          "name": "stdout"
        }
      ]
    },
    {
      "cell_type": "code",
      "metadata": {
        "colab": {
          "base_uri": "https://localhost:8080/"
        },
        "id": "dWfgUzb2YR5X",
        "outputId": "ab189d19-c779-4e43-e6ea-062b5e9e88a4"
      },
      "source": [
        "# Accuray Score on train dataset\n",
        "accuracy_train = accuracy_score(y_train,predict_train)\n",
        "print('\\naccuracy_score on train dataset : ', accuracy_train)"
      ],
      "execution_count": null,
      "outputs": [
        {
          "output_type": "stream",
          "text": [
            "\n",
            "accuracy_score on train dataset :  0.9432216108054027\n"
          ],
          "name": "stdout"
        }
      ]
    },
    {
      "cell_type": "code",
      "metadata": {
        "colab": {
          "base_uri": "https://localhost:8080/"
        },
        "id": "-mq-rtQcYWzf",
        "outputId": "0c49fd90-00aa-448b-c645-1b12c521aae7"
      },
      "source": [
        "# predict the target on the test dataset\n",
        "predict_test = model.predict(X_test)\n",
        "print('\\nTarget on test data',predict_test) "
      ],
      "execution_count": null,
      "outputs": [
        {
          "output_type": "stream",
          "text": [
            "\n",
            "Target on test data [3 3 3 ... 0 0 0]\n"
          ],
          "name": "stdout"
        }
      ]
    },
    {
      "cell_type": "code",
      "metadata": {
        "colab": {
          "base_uri": "https://localhost:8080/"
        },
        "id": "hpeqxF6jYap7",
        "outputId": "2a597edd-24f5-4d5b-82c8-8743b8b49031"
      },
      "source": [
        "# Accuracy Score on test dataset\n",
        "accuracy_test = accuracy_score(y_test,predict_test)\n",
        "print('\\naccuracy_score on test dataset : ', accuracy_test)"
      ],
      "execution_count": null,
      "outputs": [
        {
          "output_type": "stream",
          "text": [
            "\n",
            "accuracy_score on test dataset :  0.907859078590786\n"
          ],
          "name": "stdout"
        }
      ]
    },
    {
      "cell_type": "code",
      "metadata": {
        "colab": {
          "base_uri": "https://localhost:8080/"
        },
        "id": "xq6zmhAeN7KH",
        "outputId": "17a213d6-d0cb-4f1a-94c3-db597ef3cfaf"
      },
      "source": [
        "import scipy.io\n",
        "import sklearn.metrics as metrics\n",
        "from sklearn.metrics import roc_curve, auc\n",
        "# calculate the fpr and tpr for all thresholds of the classification\n",
        "preds = model.predict_proba(X_test)[:,1]\n",
        "fpr, tpr, threshold = metrics.roc_curve(y_test, preds, pos_label=3)\n",
        "roc_auc = metrics.auc(fpr, tpr)\n",
        "print('Class 3 fpr: ', fpr)\n",
        "print('\\nClass 3 tpr: ', tpr)\n",
        "print('\\nClass 3 roc_auc: ', roc_auc)\n",
        "\n",
        "\n",
        "fpr_3 = fpr\n",
        "tpr_3 = tpr"
      ],
      "execution_count": null,
      "outputs": [
        {
          "output_type": "stream",
          "text": [
            "Class 3 fpr:  [0.00000000e+00 7.02247191e-04 1.40449438e-03 2.80898876e-03\n",
            " 5.61797753e-03 1.05337079e-02 1.19382022e-02 1.47471910e-02\n",
            " 1.68539326e-02 1.82584270e-02 2.31741573e-02 2.59831461e-02\n",
            " 2.66853933e-02 2.80898876e-02 3.30056180e-02 3.72191011e-02\n",
            " 4.00280899e-02 4.14325843e-02 4.35393258e-02 4.49438202e-02\n",
            " 4.56460674e-02 4.70505618e-02 4.98595506e-02 5.19662921e-02\n",
            " 5.33707865e-02 5.75842697e-02 5.96910112e-02 6.10955056e-02\n",
            " 6.17977528e-02 6.32022472e-02 6.39044944e-02 6.53089888e-02\n",
            " 6.60112360e-02 6.81179775e-02 6.95224719e-02 7.02247191e-02\n",
            " 7.86516854e-02 8.07584270e-02 8.14606742e-02 8.28651685e-02\n",
            " 9.83146067e-02 1.00421348e-01 1.01825843e-01 1.02528090e-01\n",
            " 1.03932584e-01 1.04634831e-01 1.06039326e-01 1.08146067e-01\n",
            " 1.10252809e-01 1.13061798e-01 1.15168539e-01 1.16573034e-01\n",
            " 1.18679775e-01 1.22893258e-01 1.25702247e-01 1.27106742e-01\n",
            " 1.27808989e-01 1.32724719e-01 1.39747191e-01 1.41853933e-01\n",
            " 1.43960674e-01 1.45365169e-01 1.46769663e-01 1.49578652e-01\n",
            " 1.50983146e-01 1.55196629e-01 1.56601124e-01 1.57303371e-01\n",
            " 1.59410112e-01 1.60112360e-01 1.61516854e-01 1.65028090e-01\n",
            " 1.67837079e-01 1.71348315e-01 1.72752809e-01 1.74157303e-01\n",
            " 1.74859551e-01 1.76966292e-01 1.83988764e-01 1.86797753e-01\n",
            " 1.95224719e-01 1.98033708e-01 2.04353933e-01 2.04353933e-01\n",
            " 2.05056180e-01 2.05056180e-01 2.05758427e-01 2.05758427e-01\n",
            " 2.07162921e-01 2.07162921e-01 2.08567416e-01 2.08567416e-01\n",
            " 2.09269663e-01 2.09269663e-01 2.09269663e-01 2.09269663e-01\n",
            " 2.09269663e-01 2.09971910e-01 2.09971910e-01 2.11376404e-01\n",
            " 2.12780899e-01 2.12780899e-01 2.13483146e-01 2.14185393e-01\n",
            " 2.14185393e-01 2.14887640e-01 2.14887640e-01 2.15589888e-01\n",
            " 2.15589888e-01 2.16292135e-01 2.16292135e-01 2.16994382e-01\n",
            " 2.16994382e-01 2.18398876e-01 2.18398876e-01 2.19101124e-01\n",
            " 2.19101124e-01 2.21910112e-01 2.22612360e-01 2.24719101e-01\n",
            " 2.25421348e-01 2.27528090e-01 2.27528090e-01 2.31741573e-01\n",
            " 2.33848315e-01 2.42275281e-01 2.43679775e-01 2.45084270e-01\n",
            " 2.47191011e-01 2.48595506e-01 2.48595506e-01 2.50000000e-01\n",
            " 2.52106742e-01 2.53511236e-01 2.54915730e-01 2.56320225e-01\n",
            " 2.65449438e-01 2.66853933e-01 2.67556180e-01 2.71067416e-01\n",
            " 2.71769663e-01 2.74578652e-01 2.75280899e-01 2.78792135e-01\n",
            " 2.80196629e-01 2.80898876e-01 2.83707865e-01 2.87921348e-01\n",
            " 2.88623596e-01 2.92837079e-01 2.97752809e-01 2.99157303e-01\n",
            " 3.04073034e-01 3.08286517e-01 3.08988764e-01 3.24438202e-01\n",
            " 3.27247191e-01 3.28651685e-01 3.34971910e-01 3.44803371e-01\n",
            " 3.47612360e-01 3.51825843e-01 3.53230337e-01 3.56039326e-01\n",
            " 3.58146067e-01 3.63061798e-01 3.67275281e-01 3.70084270e-01\n",
            " 3.71488764e-01 3.73595506e-01 3.80617978e-01 3.81320225e-01\n",
            " 3.93258427e-01 3.94662921e-01 3.96769663e-01 4.31882022e-01\n",
            " 4.33286517e-01 4.36095506e-01 4.43117978e-01 4.45926966e-01\n",
            " 4.46629213e-01 4.48033708e-01 4.48735955e-01 4.62078652e-01\n",
            " 4.63483146e-01 4.83146067e-01 4.83848315e-01 4.87359551e-01\n",
            " 4.88061798e-01 4.91573034e-01 5.08426966e-01 5.28792135e-01\n",
            " 5.33707865e-01 5.37219101e-01 5.37921348e-01 5.74438202e-01\n",
            " 5.75842697e-01 6.26404494e-01 6.27106742e-01 6.35533708e-01\n",
            " 6.36235955e-01 6.44662921e-01 6.47471910e-01 6.48876404e-01\n",
            " 6.51685393e-01 6.53792135e-01 6.56601124e-01 6.58005618e-01\n",
            " 6.60112360e-01 6.61516854e-01 6.65730337e-01 6.67837079e-01\n",
            " 6.73455056e-01 6.74157303e-01 6.78370787e-01 6.79775281e-01\n",
            " 6.83286517e-01 6.84691011e-01 6.86095506e-01 6.87500000e-01\n",
            " 6.94522472e-01 6.98033708e-01 6.99438202e-01 7.00842697e-01\n",
            " 7.02949438e-01 7.12780899e-01 7.14185393e-01 7.15589888e-01\n",
            " 7.19803371e-01 7.25421348e-01 7.29634831e-01 7.30337079e-01\n",
            " 7.38061798e-01 7.39466292e-01 7.42275281e-01 7.42977528e-01\n",
            " 7.45084270e-01 7.47893258e-01 7.52106742e-01 7.57022472e-01\n",
            " 7.57724719e-01 7.86516854e-01 7.90730337e-01 7.91432584e-01\n",
            " 7.93539326e-01 7.96348315e-01 7.97752809e-01 7.98455056e-01\n",
            " 8.01264045e-01 8.01966292e-01 8.03370787e-01 8.18820225e-01\n",
            " 8.21629213e-01 8.22331461e-01 8.23735955e-01 8.39887640e-01\n",
            " 8.43398876e-01 8.44101124e-01 8.46910112e-01 8.47612360e-01\n",
            " 8.49016854e-01 8.51123596e-01 8.54634831e-01 8.56039326e-01\n",
            " 8.58848315e-01 8.60955056e-01 8.61657303e-01 8.64466292e-01\n",
            " 8.65168539e-01 8.67275281e-01 8.70084270e-01 8.72893258e-01\n",
            " 8.73595506e-01 8.76404494e-01 8.80617978e-01 8.82022472e-01\n",
            " 8.82724719e-01 8.85533708e-01 8.88342697e-01 8.89044944e-01\n",
            " 8.91151685e-01 8.96769663e-01 8.99578652e-01 9.03792135e-01\n",
            " 9.04494382e-01 9.07303371e-01 9.10814607e-01 9.12219101e-01\n",
            " 9.14325843e-01 9.15730337e-01 9.18539326e-01 9.21348315e-01\n",
            " 9.22752809e-01 9.24859551e-01 9.27668539e-01 9.28370787e-01\n",
            " 9.30477528e-01 9.33286517e-01 9.34691011e-01 9.38904494e-01\n",
            " 9.44522472e-01 9.45224719e-01 9.48033708e-01 9.49438202e-01\n",
            " 9.50842697e-01 9.60674157e-01 9.62780899e-01 9.64185393e-01\n",
            " 9.66292135e-01 9.68398876e-01 9.72612360e-01 9.74016854e-01\n",
            " 9.77528090e-01 9.78932584e-01 9.82443820e-01 9.83848315e-01\n",
            " 9.85955056e-01 9.87359551e-01 9.92275281e-01 9.93679775e-01\n",
            " 9.97893258e-01 9.99297753e-01 1.00000000e+00]\n",
            "\n",
            "Class 3 tpr:  [0.         0.         0.         0.         0.         0.\n",
            " 0.         0.         0.         0.         0.         0.\n",
            " 0.         0.         0.         0.         0.         0.\n",
            " 0.         0.         0.         0.         0.         0.\n",
            " 0.         0.         0.         0.         0.         0.\n",
            " 0.         0.         0.         0.         0.         0.\n",
            " 0.         0.         0.         0.         0.         0.\n",
            " 0.         0.         0.         0.         0.         0.\n",
            " 0.         0.         0.         0.         0.         0.\n",
            " 0.         0.         0.         0.         0.         0.\n",
            " 0.         0.         0.         0.         0.         0.\n",
            " 0.         0.         0.         0.         0.         0.\n",
            " 0.         0.         0.         0.         0.         0.\n",
            " 0.         0.         0.         0.         0.         0.05769231\n",
            " 0.05769231 0.07692308 0.07692308 0.11538462 0.11538462 0.21153846\n",
            " 0.21153846 0.23076923 0.23076923 0.25       0.28846154 0.36538462\n",
            " 0.42307692 0.42307692 0.46153846 0.46153846 0.46153846 0.48076923\n",
            " 0.5        0.5        0.53846154 0.53846154 0.63461538 0.63461538\n",
            " 0.65384615 0.65384615 0.78846154 0.78846154 0.82692308 0.82692308\n",
            " 0.94230769 0.94230769 0.96153846 0.96153846 0.96153846 0.96153846\n",
            " 0.96153846 0.96153846 0.98076923 0.98076923 0.98076923 0.98076923\n",
            " 0.98076923 0.98076923 0.98076923 0.98076923 1.         1.\n",
            " 1.         1.         1.         1.         1.         1.\n",
            " 1.         1.         1.         1.         1.         1.\n",
            " 1.         1.         1.         1.         1.         1.\n",
            " 1.         1.         1.         1.         1.         1.\n",
            " 1.         1.         1.         1.         1.         1.\n",
            " 1.         1.         1.         1.         1.         1.\n",
            " 1.         1.         1.         1.         1.         1.\n",
            " 1.         1.         1.         1.         1.         1.\n",
            " 1.         1.         1.         1.         1.         1.\n",
            " 1.         1.         1.         1.         1.         1.\n",
            " 1.         1.         1.         1.         1.         1.\n",
            " 1.         1.         1.         1.         1.         1.\n",
            " 1.         1.         1.         1.         1.         1.\n",
            " 1.         1.         1.         1.         1.         1.\n",
            " 1.         1.         1.         1.         1.         1.\n",
            " 1.         1.         1.         1.         1.         1.\n",
            " 1.         1.         1.         1.         1.         1.\n",
            " 1.         1.         1.         1.         1.         1.\n",
            " 1.         1.         1.         1.         1.         1.\n",
            " 1.         1.         1.         1.         1.         1.\n",
            " 1.         1.         1.         1.         1.         1.\n",
            " 1.         1.         1.         1.         1.         1.\n",
            " 1.         1.         1.         1.         1.         1.\n",
            " 1.         1.         1.         1.         1.         1.\n",
            " 1.         1.         1.         1.         1.         1.\n",
            " 1.         1.         1.         1.         1.         1.\n",
            " 1.         1.         1.         1.         1.         1.\n",
            " 1.         1.         1.         1.         1.         1.\n",
            " 1.         1.         1.         1.         1.         1.\n",
            " 1.         1.         1.         1.         1.         1.\n",
            " 1.         1.         1.         1.         1.         1.\n",
            " 1.         1.         1.         1.         1.        ]\n",
            "\n",
            "Class 3 roc_auc:  0.7868342156439067\n"
          ],
          "name": "stdout"
        }
      ]
    },
    {
      "cell_type": "code",
      "metadata": {
        "colab": {
          "base_uri": "https://localhost:8080/",
          "height": 639
        },
        "id": "g0nuMarK8QFX",
        "outputId": "9eac8fc8-9b1f-484e-cf62-08b0be5e124a"
      },
      "source": [
        "import matplotlib.pyplot as plt\n",
        "plt.figure(figsize=(10,10))\n",
        "plt.title('Receiver Operating Characteristic')\n",
        "plt.plot(fpr,tpr, color='red',label = 'AUC = %0.2f' % roc_auc)\n",
        "plt.legend(loc = 'lower right')\n",
        "plt.plot([0, 1], [0, 1],linestyle='--')\n",
        "plt.axis('tight')\n",
        "plt.ylabel('True Positive Rate')\n",
        "plt.xlabel('False Positive Rate')"
      ],
      "execution_count": null,
      "outputs": [
        {
          "output_type": "execute_result",
          "data": {
            "text/plain": [
              "Text(0.5, 0, 'False Positive Rate')"
            ]
          },
          "metadata": {
            "tags": []
          },
          "execution_count": 15
        },
        {
          "output_type": "display_data",
          "data": {
            "image/png": "[encoded data removed]",
            "text/plain": [
              "<Figure size 720x720 with 1 Axes>"
            ]
          },
          "metadata": {
            "tags": [],
            "needs_background": "light"
          }
        }
      ]
    },
    {
      "cell_type": "code",
      "metadata": {
        "colab": {
          "base_uri": "https://localhost:8080/"
        },
        "id": "6_rEQIgCCBfP",
        "outputId": "7e09a2d9-0da0-499e-b83f-6604e4fa525c"
      },
      "source": [
        "y_train.shape"
      ],
      "execution_count": null,
      "outputs": [
        {
          "output_type": "execute_result",
          "data": {
            "text/plain": [
              "(3998,)"
            ]
          },
          "metadata": {
            "tags": []
          },
          "execution_count": 18
        }
      ]
    },
    {
      "cell_type": "code",
      "metadata": {
        "colab": {
          "base_uri": "https://localhost:8080/"
        },
        "id": "vndIW409COPm",
        "outputId": "ae06ef8e-171d-49a8-cb75-2ec3805c3e1f"
      },
      "source": [
        "y_test.shape"
      ],
      "execution_count": null,
      "outputs": [
        {
          "output_type": "execute_result",
          "data": {
            "text/plain": [
              "(1476,)"
            ]
          },
          "metadata": {
            "tags": []
          },
          "execution_count": 19
        }
      ]
    },
    {
      "cell_type": "code",
      "metadata": {
        "colab": {
          "base_uri": "https://localhost:8080/"
        },
        "id": "OdCf_iAnCQuw",
        "outputId": "4dbf00af-1e4e-4b48-af54-1a1634941042"
      },
      "source": [
        "y = pd.concat([y_train, y_test])\n",
        "y.shape"
      ],
      "execution_count": null,
      "outputs": [
        {
          "output_type": "execute_result",
          "data": {
            "text/plain": [
              "(5474,)"
            ]
          },
          "metadata": {
            "tags": []
          },
          "execution_count": 21
        }
      ]
    },
    {
      "cell_type": "code",
      "metadata": {
        "id": "ZpX-Cl3NFYvn"
      },
      "source": [
        "# fit the model with the training data\n",
        "y_score = model.fit(X_train,y_train)"
      ],
      "execution_count": null,
      "outputs": []
    },
    {
      "cell_type": "code",
      "metadata": {
        "colab": {
          "base_uri": "https://localhost:8080/"
        },
        "id": "qfCBqGdeFhKJ",
        "outputId": "b172235b-da2a-4d43-c779-df8f65e1314f"
      },
      "source": [
        "import numpy as np\n",
        "from sklearn.preprocessing import label_binarize\n",
        "from sklearn.multiclass import OneVsRestClassifier\n",
        "# Binarize the output\n",
        "y = label_binarize(y, classes=[0, 1, 2, 3])\n",
        "n_classes = y.shape[1]\n",
        "# Compute ROC curve and ROC area for each class\n",
        "fpr = dict()\n",
        "tpr = dict()\n",
        "roc_auc = dict()\n",
        "for i in range(n_classes):\n",
        "    fpr[i], tpr[i], _ = roc_curve(y_test, preds, pos_label= n_classes)\n",
        "    roc_auc[i] = auc(fpr[i], tpr[i])"
      ],
      "execution_count": null,
      "outputs": [
        {
          "output_type": "stream",
          "text": [
            "/usr/local/lib/python3.6/dist-packages/sklearn/metrics/_ranking.py:808: UndefinedMetricWarning: No positive samples in y_true, true positive value should be meaningless\n",
            "  UndefinedMetricWarning)\n"
          ],
          "name": "stderr"
        }
      ]
    },
    {
      "cell_type": "code",
      "metadata": {
        "colab": {
          "base_uri": "https://localhost:8080/",
          "height": 621
        },
        "id": "Ktk5L3jQIjzb",
        "outputId": "d88abe2b-fafc-4d04-886b-18db037fd824"
      },
      "source": [
        "plt.figure(figsize=(10,10))\n",
        "lw = 2\n",
        "plt.plot(fpr[2], tpr[2], color='darkorange',\n",
        "         lw=lw, label='ROC curve (area = %0.2f)' % roc_auc[2])\n",
        "plt.plot([0, 1], [0, 1], color='navy', lw=lw, linestyle='--')\n",
        "plt.xlim([0.0, 1.0])\n",
        "plt.ylim([0.0, 1.05])\n",
        "plt.xlabel('False Positive Rate')\n",
        "plt.ylabel('True Positive Rate')\n",
        "plt.title('Receiver operating characteristic example')\n",
        "plt.legend(loc=\"lower right\")\n",
        "plt.show()"
      ],
      "execution_count": null,
      "outputs": [
        {
          "output_type": "display_data",
          "data": {
            "image/png": "[encoded data removed]",
            "text/plain": [
              "<Figure size 720x720 with 1 Axes>"
            ]
          },
          "metadata": {
            "tags": [],
            "needs_background": "light"
          }
        }
      ]
    },
    {
      "cell_type": "code",
      "metadata": {
        "colab": {
          "base_uri": "https://localhost:8080/",
          "height": 648
        },
        "id": "tDq1u4lp76P8",
        "outputId": "79cb6253-d406-4370-915a-39512f103798"
      },
      "source": [
        "import numpy as np\n",
        "from sklearn.preprocessing import label_binarize\n",
        "from sklearn.multiclass import OneVsRestClassifier\n",
        "from scipy import numpy.interp\n",
        "from itertools import cycle\n",
        "# Binarize the output\n",
        "y = label_binarize(y, classes=[0, 1, 2, 3])\n",
        "n_classes = y.shape[1]\n",
        "# First aggregate all false positive rates\n",
        "all_fpr = np.unique(np.concatenate([fpr[i] for i in range(n_classes)]))\n",
        "\n",
        "# Then interpolate all ROC curves at this points\n",
        "mean_tpr = np.zeros_like(all_fpr)\n",
        "for i in range(n_classes):\n",
        "    mean_tpr += interp(all_fpr, fpr[i], tpr[i])\n",
        "\n",
        "# Finally average it and compute AUC\n",
        "mean_tpr /= n_classes\n",
        "\n",
        "fpr[\"macro\"] = all_fpr\n",
        "tpr[\"macro\"] = mean_tpr\n",
        "roc_auc[\"macro\"] = auc(fpr[\"macro\"], tpr[\"macro\"])\n",
        "\n",
        "# Plot all ROC curves\n",
        "plt.figure(figsize=(10,10))\n",
        "#plt.plot(fpr[\"micro\"], tpr[\"micro\"],\n",
        " #        label='micro-average ROC curve (area = {0:0.2f})'\n",
        "  #             ''.format(roc_auc[\"micro\"]),\n",
        "   #       color='deeppink', linestyle=':', linewidth=4)\n",
        "\n",
        "plt.plot(fpr[\"macro\"], tpr[\"macro\"],\n",
        "         label='macro-average ROC curve (area = {0:0.2f})'\n",
        "               ''.format(roc_auc[\"macro\"]),\n",
        "         color='navy', linestyle=':', linewidth=4)\n",
        "\n",
        "colors = cycle(['red', 'blue', 'yellow', 'green'])\n",
        "for i, color in zip(range(n_classes), colors):\n",
        "    plt.plot(fpr[i], tpr[i], color=color, lw=lw,\n",
        "             label='ROC curve of class {0} (area = {1:0.2f})'\n",
        "             ''.format(i, roc_auc[i]))"
      ],
      "execution_count": null,
      "outputs": [
        {
          "output_type": "stream",
          "text": [
            "/usr/local/lib/python3.6/dist-packages/ipykernel_launcher.py:15: DeprecationWarning: scipy.interp is deprecated and will be removed in SciPy 2.0.0, use numpy.interp instead\n",
            "  from ipykernel import kernelapp as app\n"
          ],
          "name": "stderr"
        },
        {
          "output_type": "display_data",
          "data": {
            "image/png": "[encoded data removed]",
            "text/plain": [
              "<Figure size 720x720 with 1 Axes>"
            ]
          },
          "metadata": {
            "tags": [],
            "needs_background": "light"
          }
        }
      ]
    },
    {
      "cell_type": "code",
      "metadata": {
        "id": "J9l5NDg_lCLR"
      },
      "source": [
        "import sklearn.metrics as metrics\n",
        "from sklearn.metrics import roc_curve, auc\n",
        "# calculate the fpr and tpr for all thresholds of the classification\n",
        "#probs = model.predict_proba(X_test)\n",
        "#preds = probs[:,1]\n",
        "#predict_test = model.predict(X_test)\n",
        "preds = model.predict_proba(X_test)[:,1]\n",
        "#fpr, tpr, threshold = metrics.roc_curve(y_test, preds)\n",
        "fpr, tpr, threshold = metrics.roc_curve(y_test, preds, pos_label=2)\n",
        "roc_auc = metrics.auc(fpr, tpr)\n",
        "roc_auc\n",
        "\n",
        "fpr_2 = fpr\n",
        "tpr_2 = tpr"
      ],
      "execution_count": null,
      "outputs": []
    },
    {
      "cell_type": "code",
      "metadata": {
        "colab": {
          "base_uri": "https://localhost:8080/",
          "height": 639
        },
        "id": "WpcPd18xlIwh",
        "outputId": "9ee01379-136f-465d-dc53-14dbbb67506a"
      },
      "source": [
        "import matplotlib.pyplot as plt\n",
        "plt.figure(figsize=(10,10))\n",
        "plt.title('Receiver Operating Characteristic')\n",
        "plt.plot(fpr,tpr, color='blue',label = 'AUC = %0.2f' % roc_auc)\n",
        "plt.legend(loc = 'lower right')\n",
        "plt.plot([0, 1], [0, 1],linestyle='--')\n",
        "plt.axis('tight')\n",
        "plt.ylabel('True Positive Rate')\n",
        "plt.xlabel('False Positive Rate')"
      ],
      "execution_count": null,
      "outputs": [
        {
          "output_type": "execute_result",
          "data": {
            "text/plain": [
              "Text(0.5, 0, 'False Positive Rate')"
            ]
          },
          "metadata": {
            "tags": []
          },
          "execution_count": 17
        },
        {
          "output_type": "display_data",
          "data": {
            "image/png": "[encoded data removed]",
            "text/plain": [
              "<Figure size 720x720 with 1 Axes>"
            ]
          },
          "metadata": {
            "tags": [],
            "needs_background": "light"
          }
        }
      ]
    },
    {
      "cell_type": "code",
      "metadata": {
        "id": "EAEN9kkVo8n9"
      },
      "source": [
        "import sklearn.metrics as metrics\n",
        "from sklearn.metrics import roc_curve, auc\n",
        "# calculate the fpr and tpr for all thresholds of the classification\n",
        "#probs = model.predict_proba(X_test)\n",
        "#preds = probs[:,1]\n",
        "#predict_test = model.predict(X_test)\n",
        "preds = model.predict_proba(X_test)[:,1]\n",
        "#fpr, tpr, threshold = metrics.roc_curve(y_test, preds)\n",
        "fpr, tpr, threshold = metrics.roc_curve(y_test, preds, pos_label=1)\n",
        "roc_auc = metrics.auc(fpr, tpr)\n",
        "roc_auc\n",
        "\n",
        "fpr_1 = fpr\n",
        "tpr_1 = tpr"
      ],
      "execution_count": null,
      "outputs": []
    },
    {
      "cell_type": "code",
      "metadata": {
        "colab": {
          "base_uri": "https://localhost:8080/",
          "height": 639
        },
        "id": "qaTjoqDzo9Ac",
        "outputId": "3cc56899-6361-4904-d6e4-3ee098db0bac"
      },
      "source": [
        "import matplotlib.pyplot as plt\n",
        "plt.figure(figsize=(10,10))\n",
        "plt.title('Receiver Operating Characteristic')\n",
        "plt.plot(fpr,tpr, color='yellow',label = 'AUC = %0.2f' % roc_auc)\n",
        "plt.legend(loc = 'lower right')\n",
        "plt.plot([0, 1], [0, 1],linestyle='--')\n",
        "plt.axis('tight')\n",
        "plt.ylabel('True Positive Rate')\n",
        "plt.xlabel('False Positive Rate')"
      ],
      "execution_count": null,
      "outputs": [
        {
          "output_type": "execute_result",
          "data": {
            "text/plain": [
              "Text(0.5, 0, 'False Positive Rate')"
            ]
          },
          "metadata": {
            "tags": []
          },
          "execution_count": 19
        },
        {
          "output_type": "display_data",
          "data": {
            "image/png": "[encoded data removed]",
            "text/plain": [
              "<Figure size 720x720 with 1 Axes>"
            ]
          },
          "metadata": {
            "tags": [],
            "needs_background": "light"
          }
        }
      ]
    },
    {
      "cell_type": "code",
      "metadata": {
        "colab": {
          "base_uri": "https://localhost:8080/"
        },
        "id": "uzOBWgslo-AK",
        "outputId": "df88c276-2be1-459c-d6f4-f7a421b6b85e"
      },
      "source": [
        "import sklearn.metrics as metrics\n",
        "from sklearn.metrics import roc_curve, auc\n",
        "# calculate the fpr and tpr for all thresholds of the classification\n",
        "#probs = model.predict_proba(X_test)\n",
        "#preds = probs[:,1]\n",
        "#predict_test = model.predict(X_test)\n",
        "preds = model.predict_proba(X_test)[:,1]\n",
        "#fpr, tpr, threshold = metrics.roc_curve(y_test, preds)\n",
        "fpr, tpr, threshold = metrics.roc_curve(y_test, preds, pos_label=0)\n",
        "roc_auc = metrics.auc(fpr, tpr)\n",
        "roc_auc"
      ],
      "execution_count": null,
      "outputs": [
        {
          "output_type": "execute_result",
          "data": {
            "text/plain": [
              "0.11449381409643031"
            ]
          },
          "metadata": {
            "tags": []
          },
          "execution_count": 20
        }
      ]
    },
    {
      "cell_type": "code",
      "metadata": {
        "colab": {
          "base_uri": "https://localhost:8080/",
          "height": 639
        },
        "id": "ldVvjT1ho-Nu",
        "outputId": "d89e1b2a-4566-4f1a-e12e-90d7f4f5ee53"
      },
      "source": [
        "import matplotlib.pyplot as plt\n",
        "plt.figure(figsize=(10,10))\n",
        "plt.title('Receiver Operating Characteristic')\n",
        "plt.plot(fpr,tpr, color='green',label = 'AUC = %0.2f' % roc_auc)\n",
        "plt.legend(loc = 'lower right')\n",
        "plt.plot([0, 1], [0, 1],linestyle='--')\n",
        "plt.axis('tight')\n",
        "plt.ylabel('True Positive Rate')\n",
        "plt.xlabel('False Positive Rate')"
      ],
      "execution_count": null,
      "outputs": [
        {
          "output_type": "execute_result",
          "data": {
            "text/plain": [
              "Text(0.5, 0, 'False Positive Rate')"
            ]
          },
          "metadata": {
            "tags": []
          },
          "execution_count": 21
        },
        {
          "output_type": "display_data",
          "data": {
            "image/png": "[encoded data removed]",
            "text/plain": [
              "<Figure size 720x720 with 1 Axes>"
            ]
          },
          "metadata": {
            "tags": [],
            "needs_background": "light"
          }
        }
      ]
    },
    {
      "cell_type": "code",
      "metadata": {
        "colab": {
          "base_uri": "https://localhost:8080/"
        },
        "id": "WpEvMItwmOqF",
        "outputId": "434850fc-8767-424f-e3c3-5f565162d9f0"
      },
      "source": [
        "from sklearn.metrics import confusion_matrix \n",
        "confusion_matrix=metrics.confusion_matrix(y_test,predict_test)\n",
        "print(\"Confusion Matrix: \",confusion_matrix)"
      ],
      "execution_count": null,
      "outputs": [
        {
          "output_type": "stream",
          "text": [
            "Confusion Matrix:  [[1042    1   12    0]\n",
            " [   0  249    3    0]\n",
            " [  91   19    2    5]\n",
            " [   0    0    3   49]]\n"
          ],
          "name": "stdout"
        }
      ]
    },
    {
      "cell_type": "code",
      "metadata": {
        "colab": {
          "base_uri": "https://localhost:8080/"
        },
        "id": "nIa7vth3oT7m",
        "outputId": "222d7bba-aca1-45b5-df6f-88b94a36d4c8"
      },
      "source": [
        "from sklearn.metrics import classification_report\n",
        "print(\"Report : \", classification_report(y_test, predict_test)) "
      ],
      "execution_count": null,
      "outputs": [
        {
          "output_type": "stream",
          "text": [
            "Report :                precision    recall  f1-score   support\n",
            "\n",
            "           0       0.92      0.99      0.95      1055\n",
            "           1       0.93      0.99      0.96       252\n",
            "           2       0.10      0.02      0.03       117\n",
            "           3       0.91      0.94      0.92        52\n",
            "\n",
            "    accuracy                           0.91      1476\n",
            "   macro avg       0.71      0.73      0.72      1476\n",
            "weighted avg       0.86      0.91      0.88      1476\n",
            "\n"
          ],
          "name": "stdout"
        }
      ]
    },
    {
      "cell_type": "code",
      "metadata": {
        "id": "mdEIC5FWC1t1"
      },
      "source": [
        "from scipy.io import savemat\n",
        "savemat('/content/drive/My Drive/Msc/Msc Thesis/Coding Documents/WFS/GMB/roc_data.mat', {'fpr_1': fpr_1, 'tpr_1' : tpr_1,'fpr_2': fpr_2, 'tpr_2' : tpr_2,'fpr_3': fpr_3, 'tpr_3' : tpr_3})"
      ],
      "execution_count": null,
      "outputs": []
    }
  ]
}