{
  "nbformat": 4,
  "nbformat_minor": 0,
  "metadata": {
    "colab": {
      "name": "My_CI_Project_SVM.ipynb",
      "provenance": [],
      "authorship_tag": "ABX9TyP+RmRNMUdtd8bRqwBCYo2w",
      "include_colab_link": true
    },
    "kernelspec": {
      "name": "python3",
      "display_name": "Python 3"
    },
    "accelerator": "GPU"
  },
  "cells": [
    {
      "cell_type": "markdown",
      "metadata": {
        "id": "view-in-github",
        "colab_type": "text"
      },
      "source": [
        "<a href=\"https://colab.research.google.com/github/mohammad-nahid-hossain/MSc.-Projects/blob/main/My_CI_Project_SVM.ipynb\" target=\"_parent\"><img src=\"https://colab.research.google.com/assets/colab-badge.svg\" alt=\"Open In Colab\"/></a>"
      ]
    },
    {
      "cell_type": "code",
      "metadata": {
        "id": "9pyKAT2ydyIx",
        "colab": {
          "base_uri": "https://localhost:8080/"
        },
        "outputId": "2755bdd3-1d4b-4281-f48a-ec21f69a243c"
      },
      "source": [
        "from google.colab import drive\n",
        "drive.mount('/content/drive/')"
      ],
      "execution_count": null,
      "outputs": [
        {
          "output_type": "stream",
          "text": [
            "Mounted at /content/drive/\n"
          ],
          "name": "stdout"
        }
      ]
    },
    {
      "cell_type": "code",
      "metadata": {
        "id": "My0Euq482mI-",
        "colab": {
          "base_uri": "https://localhost:8080/"
        },
        "outputId": "83f2f21d-0b8f-43fd-fd65-6a22b3b4e9c2"
      },
      "source": [
        "!ls \"/content/drive/My Drive/\""
      ],
      "execution_count": null,
      "outputs": [
        {
          "output_type": "stream",
          "text": [
            " 2014_Bodily_Maps_of_Emotions.mat\n",
            "'2019110211_Hossain Mohammad Nahid.gdoc'\n",
            " Books\n",
            "'Books(islamic)'\n",
            "'Bsc Thesis'\n",
            " CERTIFICATES\n",
            "'Colab Notebooks'\n",
            " Coursera\n",
            " CV\n",
            "'Data Acquisition for research work'\n",
            " DeepLearningBook.pdf\n",
            "'Dream forest tour'\n",
            "'Getting started.pdf'\n",
            "'GME transaction'\n",
            " Hmmmmm.gsheet\n",
            "'How to install cuda 10.1 in Ubuntu 18.04.zip'\n",
            " IMG_4717.JPG\n",
            " IMG_4719.JPG\n",
            " lecture_1.pdf\n",
            " lecture_2.pdf\n",
            " lecture_3.pdf\n",
            " lecture_4.pdf\n",
            " Msc\n",
            " Neural-Network-based-finger-counting-technique.pdf\n",
            "'New Doc 2019-09-03 20.05.57.jpg'\n",
            " Paper\n",
            "'PhD Application'\n",
            "'PhD Application Pack'\n",
            "'Planning Document.docx'\n",
            "'Planning Document.odt'\n",
            "'Planning Document.pdf'\n"
          ],
          "name": "stdout"
        }
      ]
    },
    {
      "cell_type": "code",
      "metadata": {
        "id": "3d-08cgllUFp"
      },
      "source": [
        "import pandas as pd\n",
        "import numpy as np\n",
        "import matplotlib.pyplot as plt\n",
        "%matplotlib inline"
      ],
      "execution_count": null,
      "outputs": []
    },
    {
      "cell_type": "code",
      "metadata": {
        "id": "8hMvFrESldxE"
      },
      "source": [
        "CI_data = pd.read_csv(\"/content/drive/My Drive/Msc/Msc Thesis/Coding Documents/SVM/My_Project_CI_data.csv\")"
      ],
      "execution_count": null,
      "outputs": []
    },
    {
      "cell_type": "code",
      "metadata": {
        "colab": {
          "base_uri": "https://localhost:8080/"
        },
        "id": "DYmrgik6ovJy",
        "outputId": "4744502f-77ee-49d7-b1e3-3c7f4658b476"
      },
      "source": [
        "CI_data.shape"
      ],
      "execution_count": null,
      "outputs": [
        {
          "output_type": "execute_result",
          "data": {
            "text/plain": [
              "(5475, 8)"
            ]
          },
          "metadata": {
            "tags": []
          },
          "execution_count": 7
        }
      ]
    },
    {
      "cell_type": "code",
      "metadata": {
        "colab": {
          "base_uri": "https://localhost:8080/",
          "height": 204
        },
        "id": "JeFOoefhoz70",
        "outputId": "17c683ea-66aa-40e9-caad-0618323c70c3"
      },
      "source": [
        "CI_data.head()"
      ],
      "execution_count": null,
      "outputs": [
        {
          "output_type": "execute_result",
          "data": {
            "text/html": [
              "<div>\n",
              "<style scoped>\n",
              "    .dataframe tbody tr th:only-of-type {\n",
              "        vertical-align: middle;\n",
              "    }\n",
              "\n",
              "    .dataframe tbody tr th {\n",
              "        vertical-align: top;\n",
              "    }\n",
              "\n",
              "    .dataframe thead th {\n",
              "        text-align: right;\n",
              "    }\n",
              "</style>\n",
              "<table border=\"1\" class=\"dataframe\">\n",
              "  <thead>\n",
              "    <tr style=\"text-align: right;\">\n",
              "      <th></th>\n",
              "      <th>TotalTime</th>\n",
              "      <th>EC</th>\n",
              "      <th>AVG</th>\n",
              "      <th>Energy</th>\n",
              "      <th>Sleep</th>\n",
              "      <th>Step</th>\n",
              "      <th>HeartData</th>\n",
              "      <th>Group</th>\n",
              "    </tr>\n",
              "  </thead>\n",
              "  <tbody>\n",
              "    <tr>\n",
              "      <th>0</th>\n",
              "      <td>12</td>\n",
              "      <td>2</td>\n",
              "      <td>1.500000</td>\n",
              "      <td>302.500000</td>\n",
              "      <td>8</td>\n",
              "      <td>605</td>\n",
              "      <td>58</td>\n",
              "      <td>3</td>\n",
              "    </tr>\n",
              "    <tr>\n",
              "      <th>1</th>\n",
              "      <td>13</td>\n",
              "      <td>3</td>\n",
              "      <td>2.166667</td>\n",
              "      <td>183.333333</td>\n",
              "      <td>4</td>\n",
              "      <td>550</td>\n",
              "      <td>58</td>\n",
              "      <td>3</td>\n",
              "    </tr>\n",
              "    <tr>\n",
              "      <th>2</th>\n",
              "      <td>10</td>\n",
              "      <td>1</td>\n",
              "      <td>1.428571</td>\n",
              "      <td>183.333333</td>\n",
              "      <td>7</td>\n",
              "      <td>550</td>\n",
              "      <td>57</td>\n",
              "      <td>3</td>\n",
              "    </tr>\n",
              "    <tr>\n",
              "      <th>3</th>\n",
              "      <td>12</td>\n",
              "      <td>2</td>\n",
              "      <td>1.500000</td>\n",
              "      <td>183.333333</td>\n",
              "      <td>5</td>\n",
              "      <td>550</td>\n",
              "      <td>66</td>\n",
              "      <td>3</td>\n",
              "    </tr>\n",
              "    <tr>\n",
              "      <th>4</th>\n",
              "      <td>10</td>\n",
              "      <td>1</td>\n",
              "      <td>1.250000</td>\n",
              "      <td>201.666667</td>\n",
              "      <td>4</td>\n",
              "      <td>605</td>\n",
              "      <td>79</td>\n",
              "      <td>3</td>\n",
              "    </tr>\n",
              "  </tbody>\n",
              "</table>\n",
              "</div>"
            ],
            "text/plain": [
              "   TotalTime  EC       AVG      Energy  Sleep  Step  HeartData  Group\n",
              "0         12   2  1.500000  302.500000      8   605         58      3\n",
              "1         13   3  2.166667  183.333333      4   550         58      3\n",
              "2         10   1  1.428571  183.333333      7   550         57      3\n",
              "3         12   2  1.500000  183.333333      5   550         66      3\n",
              "4         10   1  1.250000  201.666667      4   605         79      3"
            ]
          },
          "metadata": {
            "tags": []
          },
          "execution_count": 8
        }
      ]
    },
    {
      "cell_type": "code",
      "metadata": {
        "id": "U2JJqIsPo4nf"
      },
      "source": [
        "X = CI_data.drop('Group', axis=1)\n",
        "y = CI_data['Group']"
      ],
      "execution_count": null,
      "outputs": []
    },
    {
      "cell_type": "code",
      "metadata": {
        "id": "FX2xvrCjpCZI"
      },
      "source": [
        "from sklearn.model_selection import train_test_split\n",
        "X_train, X_test, y_train, y_test = train_test_split(X, y, test_size = 0.30)"
      ],
      "execution_count": null,
      "outputs": []
    },
    {
      "cell_type": "code",
      "metadata": {
        "colab": {
          "base_uri": "https://localhost:8080/"
        },
        "id": "79JMFQUTpF4p",
        "outputId": "16c36956-0883-47a0-99ad-8653a38a7295"
      },
      "source": [
        "from sklearn.svm import SVC\n",
        "svclassifier = SVC(kernel='linear')\n",
        "svclassifier.fit(X_train, y_train)"
      ],
      "execution_count": null,
      "outputs": [
        {
          "output_type": "execute_result",
          "data": {
            "text/plain": [
              "SVC(C=1.0, break_ties=False, cache_size=200, class_weight=None, coef0=0.0,\n",
              "    decision_function_shape='ovr', degree=3, gamma='scale', kernel='linear',\n",
              "    max_iter=-1, probability=False, random_state=None, shrinking=True,\n",
              "    tol=0.001, verbose=False)"
            ]
          },
          "metadata": {
            "tags": []
          },
          "execution_count": 11
        }
      ]
    },
    {
      "cell_type": "code",
      "metadata": {
        "id": "k4bfw7SzpJO0"
      },
      "source": [
        "y_pred = svclassifier.predict(X_test)"
      ],
      "execution_count": null,
      "outputs": []
    },
    {
      "cell_type": "code",
      "metadata": {
        "colab": {
          "base_uri": "https://localhost:8080/"
        },
        "id": "NmErjZttpM8R",
        "outputId": "89c92d6e-e848-41d9-cdde-e0be21aff1c4"
      },
      "source": [
        "from sklearn.metrics import classification_report, confusion_matrix\n",
        "from sklearn.metrics import accuracy_score \n",
        "print(confusion_matrix(y_test,y_pred))\n",
        "print (\"Accuracy : \", accuracy_score(y_test,y_pred)*100) \n",
        "print(classification_report(y_test,y_pred))"
      ],
      "execution_count": null,
      "outputs": [
        {
          "output_type": "stream",
          "text": [
            "[[1076   59    0    6]\n",
            " [ 153  110    0   14]\n",
            " [ 106   14    0    7]\n",
            " [   8   42    0   48]]\n",
            "Accuracy :  75.1065124771759\n",
            "              precision    recall  f1-score   support\n",
            "\n",
            "           0       0.80      0.94      0.87      1141\n",
            "           1       0.49      0.40      0.44       277\n",
            "           2       0.00      0.00      0.00       127\n",
            "           3       0.64      0.49      0.55        98\n",
            "\n",
            "    accuracy                           0.75      1643\n",
            "   macro avg       0.48      0.46      0.46      1643\n",
            "weighted avg       0.68      0.75      0.71      1643\n",
            "\n"
          ],
          "name": "stdout"
        },
        {
          "output_type": "stream",
          "text": [
            "/usr/local/lib/python3.6/dist-packages/sklearn/metrics/_classification.py:1272: UndefinedMetricWarning: Precision and F-score are ill-defined and being set to 0.0 in labels with no predicted samples. Use `zero_division` parameter to control this behavior.\n",
            "  _warn_prf(average, modifier, msg_start, len(result))\n"
          ],
          "name": "stderr"
        }
      ]
    }
  ]
}