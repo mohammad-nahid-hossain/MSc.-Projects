{
  "nbformat": 4,
  "nbformat_minor": 0,
  "metadata": {
    "colab": {
      "name": "My_CI_Project_NN.ipynb",
      "provenance": [],
      "authorship_tag": "ABX9TyPdFP2qhXw3pPJwSwUh6b+D",
      "include_colab_link": true
    },
    "kernelspec": {
      "name": "python3",
      "display_name": "Python 3"
    },
    "accelerator": "GPU"
  },
  "cells": [
    {
      "cell_type": "markdown",
      "metadata": {
        "id": "view-in-github",
        "colab_type": "text"
      },
      "source": [
        "<a href=\"https://colab.research.google.com/github/mohammad-nahid-hossain/MSc.-Projects/blob/main/My_CI_Project_NN.ipynb\" target=\"_parent\"><img src=\"https://colab.research.google.com/assets/colab-badge.svg\" alt=\"Open In Colab\"/></a>"
      ]
    },
    {
      "cell_type": "code",
      "metadata": {
        "id": "9pyKAT2ydyIx",
        "colab": {
          "base_uri": "https://localhost:8080/"
        },
        "outputId": "c6d9396a-3b01-4448-ad32-41e94e630130"
      },
      "source": [
        "from google.colab import drive\n",
        "drive.mount('/content/drive/')"
      ],
      "execution_count": null,
      "outputs": [
        {
          "output_type": "stream",
          "text": [
            "Mounted at /content/drive/\n"
          ],
          "name": "stdout"
        }
      ]
    },
    {
      "cell_type": "code",
      "metadata": {
        "id": "My0Euq482mI-",
        "colab": {
          "base_uri": "https://localhost:8080/"
        },
        "outputId": "c1980ed6-5e37-4da8-be40-490451438de9"
      },
      "source": [
        "!ls \"/content/drive/My Drive/\""
      ],
      "execution_count": null,
      "outputs": [
        {
          "output_type": "stream",
          "text": [
            " 2014_Bodily_Maps_of_Emotions.mat\n",
            "'2019110211_Hossain Mohammad Nahid.gdoc'\n",
            " Books\n",
            "'Books(islamic)'\n",
            "'Bsc Thesis'\n",
            " CERTIFICATES\n",
            "'Colab Notebooks'\n",
            " Coursera\n",
            " CV\n",
            "'Data Acquisition for research work'\n",
            " DeepLearningBook.pdf\n",
            "'Dream forest tour'\n",
            "'Getting started.pdf'\n",
            "'GME transaction'\n",
            " Hmmmmm.gsheet\n",
            "'How to install cuda 10.1 in Ubuntu 18.04.zip'\n",
            " IMG_4717.JPG\n",
            " IMG_4719.JPG\n",
            " lecture_1.pdf\n",
            " lecture_2.pdf\n",
            " lecture_3.pdf\n",
            " lecture_4.pdf\n",
            " Msc\n",
            " Neural-Network-based-finger-counting-technique.pdf\n",
            "'New Doc 2019-09-03 20.05.57.jpg'\n",
            " Paper\n",
            "'PhD Application'\n",
            "'PhD Application Pack'\n",
            "'Planning Document.docx'\n",
            "'Planning Document.odt'\n",
            "'Planning Document.pdf'\n",
            "'Snow fall video'\n"
          ],
          "name": "stdout"
        }
      ]
    },
    {
      "cell_type": "code",
      "metadata": {
        "id": "F2rAMYESsZPK"
      },
      "source": [
        "import pandas as pd\n",
        "data = pd.read_csv('/content/drive/My Drive/Msc/Msc Thesis/Coding Documents/WFS/NN/My_Project_CI_data.csv')"
      ],
      "execution_count": null,
      "outputs": []
    },
    {
      "cell_type": "code",
      "metadata": {
        "colab": {
          "base_uri": "https://localhost:8080/",
          "height": 204
        },
        "id": "woAZCYQ3VFhE",
        "outputId": "c35051b2-51c5-4e5e-d970-3778fb47a699"
      },
      "source": [
        "data.head()"
      ],
      "execution_count": null,
      "outputs": [
        {
          "output_type": "execute_result",
          "data": {
            "text/html": [
              "<div>\n",
              "<style scoped>\n",
              "    .dataframe tbody tr th:only-of-type {\n",
              "        vertical-align: middle;\n",
              "    }\n",
              "\n",
              "    .dataframe tbody tr th {\n",
              "        vertical-align: top;\n",
              "    }\n",
              "\n",
              "    .dataframe thead th {\n",
              "        text-align: right;\n",
              "    }\n",
              "</style>\n",
              "<table border=\"1\" class=\"dataframe\">\n",
              "  <thead>\n",
              "    <tr style=\"text-align: right;\">\n",
              "      <th></th>\n",
              "      <th>TotalTime</th>\n",
              "      <th>EC</th>\n",
              "      <th>AVG</th>\n",
              "      <th>Energy</th>\n",
              "      <th>Sleep</th>\n",
              "      <th>Step</th>\n",
              "      <th>HeartData</th>\n",
              "      <th>Group</th>\n",
              "    </tr>\n",
              "  </thead>\n",
              "  <tbody>\n",
              "    <tr>\n",
              "      <th>0</th>\n",
              "      <td>12</td>\n",
              "      <td>2</td>\n",
              "      <td>1.500000</td>\n",
              "      <td>302.500000</td>\n",
              "      <td>8</td>\n",
              "      <td>605</td>\n",
              "      <td>58</td>\n",
              "      <td>3</td>\n",
              "    </tr>\n",
              "    <tr>\n",
              "      <th>1</th>\n",
              "      <td>13</td>\n",
              "      <td>3</td>\n",
              "      <td>2.166667</td>\n",
              "      <td>183.333333</td>\n",
              "      <td>4</td>\n",
              "      <td>550</td>\n",
              "      <td>58</td>\n",
              "      <td>3</td>\n",
              "    </tr>\n",
              "    <tr>\n",
              "      <th>2</th>\n",
              "      <td>10</td>\n",
              "      <td>1</td>\n",
              "      <td>1.428571</td>\n",
              "      <td>183.333333</td>\n",
              "      <td>7</td>\n",
              "      <td>550</td>\n",
              "      <td>57</td>\n",
              "      <td>3</td>\n",
              "    </tr>\n",
              "    <tr>\n",
              "      <th>3</th>\n",
              "      <td>12</td>\n",
              "      <td>2</td>\n",
              "      <td>1.500000</td>\n",
              "      <td>183.333333</td>\n",
              "      <td>5</td>\n",
              "      <td>550</td>\n",
              "      <td>66</td>\n",
              "      <td>3</td>\n",
              "    </tr>\n",
              "    <tr>\n",
              "      <th>4</th>\n",
              "      <td>10</td>\n",
              "      <td>1</td>\n",
              "      <td>1.250000</td>\n",
              "      <td>201.666667</td>\n",
              "      <td>4</td>\n",
              "      <td>605</td>\n",
              "      <td>79</td>\n",
              "      <td>3</td>\n",
              "    </tr>\n",
              "  </tbody>\n",
              "</table>\n",
              "</div>"
            ],
            "text/plain": [
              "   TotalTime  EC       AVG      Energy  Sleep  Step  HeartData  Group\n",
              "0         12   2  1.500000  302.500000      8   605         58      3\n",
              "1         13   3  2.166667  183.333333      4   550         58      3\n",
              "2         10   1  1.428571  183.333333      7   550         57      3\n",
              "3         12   2  1.500000  183.333333      5   550         66      3\n",
              "4         10   1  1.250000  201.666667      4   605         79      3"
            ]
          },
          "metadata": {
            "tags": []
          },
          "execution_count": 45
        }
      ]
    },
    {
      "cell_type": "code",
      "metadata": {
        "id": "DQSS6wDmqxw5"
      },
      "source": [
        "import pandas as pd\n",
        "from sklearn.preprocessing import MinMaxScaler"
      ],
      "execution_count": null,
      "outputs": []
    },
    {
      "cell_type": "code",
      "metadata": {
        "id": "ImmmohRPVQoq"
      },
      "source": [
        "# Load training data set from CSV file\n",
        "training_data_df = pd.read_csv('/content/drive/My Drive/Msc/Msc Thesis/Coding Documents/WFS/NN/CI_detection_train.csv')"
      ],
      "execution_count": null,
      "outputs": []
    },
    {
      "cell_type": "code",
      "metadata": {
        "id": "Hbf1F4Eg5Ate"
      },
      "source": [
        "# Load testing data set from CSV file\n",
        "test_data_df = pd.read_csv('/content/drive/My Drive/Msc/Msc Thesis/Coding Documents/WFS/NN/CI_detection_test.csv')"
      ],
      "execution_count": null,
      "outputs": []
    },
    {
      "cell_type": "code",
      "metadata": {
        "id": "4bd6oShQ5I89"
      },
      "source": [
        "# Data needs to be scaled to a small range like 0 to 1 for the neural\n",
        "# network to work well.\n",
        "scaler = MinMaxScaler(feature_range=(0, 1))"
      ],
      "execution_count": null,
      "outputs": []
    },
    {
      "cell_type": "code",
      "metadata": {
        "id": "53CuApAW5Mm0"
      },
      "source": [
        "# Scale both the training inputs and outputs\n",
        "scaled_training = scaler.fit_transform(training_data_df)\n",
        "scaled_testing = scaler.transform(test_data_df)"
      ],
      "execution_count": null,
      "outputs": []
    },
    {
      "cell_type": "code",
      "metadata": {
        "colab": {
          "base_uri": "https://localhost:8080/"
        },
        "id": "27PDOBA85Qc-",
        "outputId": "d3ec2981-c21f-4da0-f0d2-a68ad9acd21a"
      },
      "source": [
        "# Print out the adjustment that the scaler applied to the total_earnings column of data\n",
        "print(\"Note: feelings values were scaled by multiplying by {:.10f} and adding {:.6f}\".format(scaler.scale_[4], scaler.min_[4]))"
      ],
      "execution_count": null,
      "outputs": [
        {
          "output_type": "stream",
          "text": [
            "Note: feelings values were scaled by multiplying by 0.1666666667 and adding -0.500000\n"
          ],
          "name": "stdout"
        }
      ]
    },
    {
      "cell_type": "code",
      "metadata": {
        "id": "1te3QzEs5iqO"
      },
      "source": [
        "# Create new pandas DataFrame objects from the scaled data\n",
        "scaled_training_df = pd.DataFrame(scaled_training, columns=training_data_df.columns.values)\n",
        "scaled_testing_df = pd.DataFrame(scaled_testing, columns=test_data_df.columns.values)"
      ],
      "execution_count": null,
      "outputs": []
    },
    {
      "cell_type": "code",
      "metadata": {
        "id": "0MsNXfXj5oGb"
      },
      "source": [
        "# Save scaled data dataframes to new CSV files\n",
        "scaled_training_df.to_csv('/content/drive/My Drive/Msc/Msc Thesis/Coding Documents/WFS/NN/CI_detection_train_scaled.csv', index=False)\n",
        "scaled_testing_df.to_csv('/content/drive/My Drive/Msc/Msc Thesis/Coding Documents/WFS/NN/CI_detection_test_scaled.csv', index=False)"
      ],
      "execution_count": null,
      "outputs": []
    },
    {
      "cell_type": "code",
      "metadata": {
        "id": "Drj1TmqO6Lpa"
      },
      "source": [
        "import pandas as pd\n",
        "from keras.models import Sequential\n",
        "from keras.layers import *"
      ],
      "execution_count": null,
      "outputs": []
    },
    {
      "cell_type": "code",
      "metadata": {
        "id": "DEavj6cA6Phb"
      },
      "source": [
        "training_data_df = pd.read_csv('/content/drive/My Drive/Msc/Msc Thesis/Coding Documents/WFS/NN/CI_detection_train_scaled.csv')"
      ],
      "execution_count": null,
      "outputs": []
    },
    {
      "cell_type": "code",
      "metadata": {
        "id": "TgZ5kS8x6cYH"
      },
      "source": [
        "X = training_data_df.drop('Group', axis=1).values\n",
        "Y = training_data_df[['Group']].values"
      ],
      "execution_count": null,
      "outputs": []
    },
    {
      "cell_type": "code",
      "metadata": {
        "id": "5KQ_G4g76iu3"
      },
      "source": [
        "# Define the model\n",
        "model = Sequential()\n",
        "model.add(Dense(50, input_dim=7, activation='relu'))\n",
        "model.add(Dense(100, activation='relu'))\n",
        "model.add(Dense(50, activation='relu'))\n",
        "model.add(Dense(1, activation='linear'))\n",
        "model.compile(loss=\"mean_squared_error\", optimizer=\"adam\", metrics=['accuracy'])"
      ],
      "execution_count": null,
      "outputs": []
    },
    {
      "cell_type": "code",
      "metadata": {
        "colab": {
          "base_uri": "https://localhost:8080/"
        },
        "id": "tPL7Rz4c6ufI",
        "outputId": "f0985079-a1b8-4345-8bb5-ee9ae0fe9f97"
      },
      "source": [
        "# Train the model\n",
        "\n",
        "model.fit(\n",
        "    X,\n",
        "    Y,\n",
        "    epochs=50,\n",
        "    shuffle=True,\n",
        "    verbose=2\n",
        ")"
      ],
      "execution_count": null,
      "outputs": [
        {
          "output_type": "stream",
          "text": [
            "Epoch 1/50\n",
            "125/125 - 2s - loss: 0.0762 - accuracy: 0.6943\n",
            "Epoch 2/50\n",
            "125/125 - 0s - loss: 0.0493 - accuracy: 0.7239\n",
            "Epoch 3/50\n",
            "125/125 - 0s - loss: 0.0463 - accuracy: 0.7314\n",
            "Epoch 4/50\n",
            "125/125 - 0s - loss: 0.0445 - accuracy: 0.7331\n",
            "Epoch 5/50\n",
            "125/125 - 0s - loss: 0.0442 - accuracy: 0.7326\n",
            "Epoch 6/50\n",
            "125/125 - 0s - loss: 0.0429 - accuracy: 0.7356\n",
            "Epoch 7/50\n",
            "125/125 - 0s - loss: 0.0423 - accuracy: 0.7359\n",
            "Epoch 8/50\n",
            "125/125 - 0s - loss: 0.0424 - accuracy: 0.7361\n",
            "Epoch 9/50\n",
            "125/125 - 0s - loss: 0.0410 - accuracy: 0.7366\n",
            "Epoch 10/50\n",
            "125/125 - 0s - loss: 0.0405 - accuracy: 0.7379\n",
            "Epoch 11/50\n",
            "125/125 - 0s - loss: 0.0407 - accuracy: 0.7379\n",
            "Epoch 12/50\n",
            "125/125 - 0s - loss: 0.0398 - accuracy: 0.7384\n",
            "Epoch 13/50\n",
            "125/125 - 0s - loss: 0.0391 - accuracy: 0.7389\n",
            "Epoch 14/50\n",
            "125/125 - 0s - loss: 0.0386 - accuracy: 0.7401\n",
            "Epoch 15/50\n",
            "125/125 - 0s - loss: 0.0379 - accuracy: 0.7406\n",
            "Epoch 16/50\n",
            "125/125 - 0s - loss: 0.0374 - accuracy: 0.7416\n",
            "Epoch 17/50\n",
            "125/125 - 0s - loss: 0.0373 - accuracy: 0.7416\n",
            "Epoch 18/50\n",
            "125/125 - 0s - loss: 0.0366 - accuracy: 0.7434\n",
            "Epoch 19/50\n",
            "125/125 - 0s - loss: 0.0365 - accuracy: 0.7431\n",
            "Epoch 20/50\n",
            "125/125 - 0s - loss: 0.0359 - accuracy: 0.7436\n",
            "Epoch 21/50\n",
            "125/125 - 0s - loss: 0.0357 - accuracy: 0.7429\n",
            "Epoch 22/50\n",
            "125/125 - 0s - loss: 0.0350 - accuracy: 0.7431\n",
            "Epoch 23/50\n",
            "125/125 - 0s - loss: 0.0344 - accuracy: 0.7454\n",
            "Epoch 24/50\n",
            "125/125 - 0s - loss: 0.0341 - accuracy: 0.7454\n",
            "Epoch 25/50\n",
            "125/125 - 0s - loss: 0.0336 - accuracy: 0.7449\n",
            "Epoch 26/50\n",
            "125/125 - 0s - loss: 0.0340 - accuracy: 0.7439\n",
            "Epoch 27/50\n",
            "125/125 - 0s - loss: 0.0332 - accuracy: 0.7454\n",
            "Epoch 28/50\n",
            "125/125 - 0s - loss: 0.0323 - accuracy: 0.7451\n",
            "Epoch 29/50\n",
            "125/125 - 0s - loss: 0.0326 - accuracy: 0.7451\n",
            "Epoch 30/50\n",
            "125/125 - 0s - loss: 0.0324 - accuracy: 0.7459\n",
            "Epoch 31/50\n",
            "125/125 - 0s - loss: 0.0323 - accuracy: 0.7451\n",
            "Epoch 32/50\n",
            "125/125 - 0s - loss: 0.0314 - accuracy: 0.7464\n",
            "Epoch 33/50\n",
            "125/125 - 0s - loss: 0.0315 - accuracy: 0.7456\n",
            "Epoch 34/50\n",
            "125/125 - 0s - loss: 0.0305 - accuracy: 0.7464\n",
            "Epoch 35/50\n",
            "125/125 - 0s - loss: 0.0306 - accuracy: 0.7464\n",
            "Epoch 36/50\n",
            "125/125 - 0s - loss: 0.0302 - accuracy: 0.7466\n",
            "Epoch 37/50\n",
            "125/125 - 0s - loss: 0.0299 - accuracy: 0.7464\n",
            "Epoch 38/50\n",
            "125/125 - 0s - loss: 0.0305 - accuracy: 0.7459\n",
            "Epoch 39/50\n",
            "125/125 - 0s - loss: 0.0296 - accuracy: 0.7471\n",
            "Epoch 40/50\n",
            "125/125 - 0s - loss: 0.0294 - accuracy: 0.7469\n",
            "Epoch 41/50\n",
            "125/125 - 0s - loss: 0.0292 - accuracy: 0.7469\n",
            "Epoch 42/50\n",
            "125/125 - 0s - loss: 0.0292 - accuracy: 0.7469\n",
            "Epoch 43/50\n",
            "125/125 - 0s - loss: 0.0286 - accuracy: 0.7474\n",
            "Epoch 44/50\n",
            "125/125 - 0s - loss: 0.0286 - accuracy: 0.7481\n",
            "Epoch 45/50\n",
            "125/125 - 0s - loss: 0.0284 - accuracy: 0.7474\n",
            "Epoch 46/50\n",
            "125/125 - 0s - loss: 0.0287 - accuracy: 0.7469\n",
            "Epoch 47/50\n",
            "125/125 - 0s - loss: 0.0281 - accuracy: 0.7471\n",
            "Epoch 48/50\n",
            "125/125 - 0s - loss: 0.0278 - accuracy: 0.7474\n",
            "Epoch 49/50\n",
            "125/125 - 0s - loss: 0.0278 - accuracy: 0.7479\n",
            "Epoch 50/50\n",
            "125/125 - 0s - loss: 0.0275 - accuracy: 0.7476\n"
          ],
          "name": "stdout"
        },
        {
          "output_type": "execute_result",
          "data": {
            "text/plain": [
              "<tensorflow.python.keras.callbacks.History at 0x7ff6d0165390>"
            ]
          },
          "metadata": {
            "tags": []
          },
          "execution_count": 61
        }
      ]
    },
    {
      "cell_type": "code",
      "metadata": {
        "colab": {
          "base_uri": "https://localhost:8080/"
        },
        "id": "9EMyuR_660PE",
        "outputId": "28e14401-e6e9-4132-fac0-fe06ffe47af7"
      },
      "source": [
        "# Load the separate test data set\n",
        "test_data_df = pd.read_csv('/content/drive/My Drive/Msc/Msc Thesis/Coding Documents/WFS/NN/CI_detection_test_scaled.csv')\n",
        "\n",
        "X_test = test_data_df.drop('Group', axis=1).values\n",
        "Y_test = test_data_df[['Group']].values\n",
        "\n",
        "##test_loss, test_acc = model.evaluate(test_images,  test_labels, verbose=2)\n",
        "test_error_rate, test_acc = model.evaluate(X_test, Y_test, verbose=2)\n",
        "print(\"The mean squared error (MSE) for the test data set is: {}\".format(test_error_rate))\n",
        "print(\"Accuracy : {}\".format(test_acc))"
      ],
      "execution_count": null,
      "outputs": [
        {
          "output_type": "stream",
          "text": [
            "47/47 - 0s - loss: 0.0361 - accuracy: 0.7473\n",
            "The mean squared error (MSE) for the test data set is: 0.03607199341058731\n",
            "Accuracy : 0.7472899556159973\n"
          ],
          "name": "stdout"
        }
      ]
    },
    {
      "cell_type": "code",
      "metadata": {
        "colab": {
          "base_uri": "https://localhost:8080/"
        },
        "id": "gsc3SAv57KMO",
        "outputId": "cdeb682c-9e92-4422-e0e1-eeab40e80163"
      },
      "source": [
        "# Save the model to disk\n",
        "model.save(\"trained_model.h5\")\n",
        "print(\"Model saved to disk.\")"
      ],
      "execution_count": null,
      "outputs": [
        {
          "output_type": "stream",
          "text": [
            "Model saved to disk.\n"
          ],
          "name": "stdout"
        }
      ]
    },
    {
      "cell_type": "code",
      "metadata": {
        "id": "vV-w6QBb7Lzi"
      },
      "source": [
        "# Load the data we make to use to make a prediction\n",
        "X = pd.read_csv('/content/drive/My Drive/Msc/Msc Thesis/Coding Documents/WFS/NN/proposed_new_CI.csv').values"
      ],
      "execution_count": null,
      "outputs": []
    },
    {
      "cell_type": "code",
      "metadata": {
        "id": "IHHHYuL27a8u"
      },
      "source": [
        "# Make a prediction with the neural network\n",
        "prediction = model.predict(X)"
      ],
      "execution_count": null,
      "outputs": []
    },
    {
      "cell_type": "code",
      "metadata": {
        "id": "sv6fn_3j7ebu"
      },
      "source": [
        "# Grab just the first element of the first prediction (since that's the only have one)\n",
        "prediction = prediction[0][0]"
      ],
      "execution_count": null,
      "outputs": []
    },
    {
      "cell_type": "code",
      "metadata": {
        "id": "s2Pqlf3Q7gwz"
      },
      "source": [
        "# Re-scale the data from the 0-to-1 range back to dollars\n",
        "# These constants are from when the data was originally scaled down to the 0-to-1 range\n",
        "prediction = prediction + 0.500000\n",
        "prediction = prediction / 0.1666666667"
      ],
      "execution_count": null,
      "outputs": []
    },
    {
      "cell_type": "code",
      "metadata": {
        "colab": {
          "base_uri": "https://localhost:8080/"
        },
        "id": "dGC1C6zv7tVW",
        "outputId": "5465ded7-d82f-47a6-b4fb-14c2506fd99b"
      },
      "source": [
        "print(\"Grouping Prediction for Proposed COgnitive Impairment {}\".format(prediction))"
      ],
      "execution_count": null,
      "outputs": [
        {
          "output_type": "stream",
          "text": [
            "Grouping Prediction for Proposed COgnitive Impairment -110.66299436263303\n"
          ],
          "name": "stdout"
        }
      ]
    },
    {
      "cell_type": "code",
      "metadata": {
        "id": "d7ifI7_r7vq_"
      },
      "source": [
        ""
      ],
      "execution_count": null,
      "outputs": []
    }
  ]
}